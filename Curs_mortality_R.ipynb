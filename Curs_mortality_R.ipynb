{
  "nbformat": 4,
  "nbformat_minor": 0,
  "metadata": {
    "colab": {
      "provenance": [],
      "authorship_tag": "ABX9TyNqfQMkQye44EHMI8wsRkXN",
      "include_colab_link": true
    },
    "kernelspec": {
      "name": "python3",
      "display_name": "Python 3"
    },
    "language_info": {
      "name": "python"
    }
  },
  "cells": [
    {
      "cell_type": "markdown",
      "metadata": {
        "id": "view-in-github",
        "colab_type": "text"
      },
      "source": [
        "<a href=\"https://colab.research.google.com/github/PeninaOlga/Curs_USMF/blob/main/Curs_mortality_R.ipynb\" target=\"_parent\"><img src=\"https://colab.research.google.com/assets/colab-badge.svg\" alt=\"Open In Colab\"/></a>"
      ]
    },
    {
      "cell_type": "markdown",
      "source": [
        "# **Conferinta stiintifica anuala \"Cercetarea in Biomedicina si Sanatate: Calitate, Excelenta si Performanta\"**\n",
        "\n",
        "# Curs educational Aspectele metodologice ale analizei mortalitatii in \"R\"\n",
        "---\n",
        "\n",
        "\n",
        "> Olga Penina, Catedra de medicina sociala si management \"Nicolae Testemitanu\"\n",
        "olga.penina@usmf.md\n"
      ],
      "metadata": {
        "id": "WJttiw39o1Ko"
      }
    },
    {
      "cell_type": "markdown",
      "source": [
        "\n",
        "## **A. Calcularea ratelor standardizate ale mortalitatii prin metoda directa pentru RM in 2014-2022**\n",
        "\n",
        "---\n",
        "\n"
      ],
      "metadata": {
        "id": "XeJdzX75FCnd"
      }
    },
    {
      "cell_type": "markdown",
      "source": [
        "Datele necesare:\n",
        "1. Numarul de decese pe sexe si varste pentru anii 2014-2022\n",
        "2. Numarul populatiei pe sexe si varste pentru anii 2014-2022\n",
        "3. Populatia standard (standardul European, 2013)\n",
        "\n",
        "Sursa (1-2): Banca de date BNS, https://statistica.gov.md/ro\n",
        "\n",
        "Sursa (3): https://ec.europa.eu/eurostat/web/products-manuals-and-guidelines/-/ks-ra-13-028"
      ],
      "metadata": {
        "id": "YY3OT_YYFqaX"
      }
    },
    {
      "cell_type": "markdown",
      "source": [
        "# ***A.1 Descarcarea datelor de pe GitHub. Utilizarea liniei de comanda***\n",
        "\n",
        "https://github.com/PeninaOlga/Curs_USMF"
      ],
      "metadata": {
        "id": "hZowYe3AxE-O"
      }
    },
    {
      "cell_type": "code",
      "source": [
        "## Verificam care este directorul nostru curent (calea curenta in sistemul de fisiere, unde ne aflam) pe Google Drive\n",
        "## Utilizam linia de comanda, pwd (print working directory)\n",
        "%%bash\n",
        "pwd"
      ],
      "metadata": {
        "colab": {
          "base_uri": "https://localhost:8080/"
        },
        "id": "9FfGdJ8vlM1z",
        "outputId": "c3adccd0-5925-409e-9400-2efd2a417594"
      },
      "execution_count": null,
      "outputs": [
        {
          "output_type": "stream",
          "name": "stdout",
          "text": [
            "/content\n"
          ]
        }
      ]
    },
    {
      "cell_type": "code",
      "source": [
        "## Cream un nou fisier \"Data\" in directorul curent (mkdir) si verificam ce se afla in directorul curent (ls)\n",
        "%%bash\n",
        "pwd\n",
        "mkdir Data Output\n",
        "ls\n"
      ],
      "metadata": {
        "colab": {
          "base_uri": "https://localhost:8080/"
        },
        "id": "U5Nl5sbaolxC",
        "outputId": "774dd157-ba2e-46a7-89d2-3ed04d4389a3"
      },
      "execution_count": null,
      "outputs": [
        {
          "output_type": "stream",
          "name": "stdout",
          "text": [
            "/content\n",
            "Data\n",
            "Output\n",
            "sample_data\n"
          ]
        }
      ]
    },
    {
      "cell_type": "code",
      "source": [
        "## Schimbam directorul (cd, change directory)\n",
        "%%bash\n",
        "cd /content/Data\n",
        "pwd"
      ],
      "metadata": {
        "colab": {
          "base_uri": "https://localhost:8080/"
        },
        "id": "iUvbfDyTqj7H",
        "outputId": "21adf850-5edb-4bcf-e79d-507db2f5526a"
      },
      "execution_count": null,
      "outputs": [
        {
          "output_type": "stream",
          "name": "stdout",
          "text": [
            "/content/Data\n"
          ]
        }
      ]
    },
    {
      "cell_type": "code",
      "execution_count": null,
      "metadata": {
        "id": "dajScctnoqK2"
      },
      "outputs": [],
      "source": [
        "## Descarcam datele privind numarul de decese pe sexe si varste in RM, 2014-2023 in format .csv aflate pe GitHub\n",
        "%%bash\n",
        "cd /content/Data/\n",
        "wget https://raw.githubusercontent.com/PeninaOlga/Curs_USMF/main/d_1x1.csv &>/dev/null"
      ]
    },
    {
      "cell_type": "code",
      "source": [
        "## Descarcam datele privind numarul de populatie pe sexe si varste in RM, 2014-2023 in format .csv aflate pe GitHub\n",
        "%%bash\n",
        "cd /content/Data/\n",
        "wget https://raw.githubusercontent.com/PeninaOlga/Curs_USMF/main/pop_1x1.csv &>/dev/null"
      ],
      "metadata": {
        "id": "qIjrQse9FBbN"
      },
      "execution_count": null,
      "outputs": []
    },
    {
      "cell_type": "code",
      "source": [
        "## Descarcam datele privind populatia standard (European Standard Population, 2013)\n",
        "%%bash\n",
        "cd /content/Data\n",
        "wget https://raw.githubusercontent.com/PeninaOlga/Curs_USMF/main/PopStandard.csv &>/dev/null"
      ],
      "metadata": {
        "id": "yoPH2yfxwpzT"
      },
      "execution_count": null,
      "outputs": []
    },
    {
      "cell_type": "code",
      "source": [
        "## Verificam continutul fisierului \"Data\"\n",
        "%%bash\n",
        "cd /content/Data/\n",
        "ls\n"
      ],
      "metadata": {
        "colab": {
          "base_uri": "https://localhost:8080/"
        },
        "id": "aXYI-4kQwRSl",
        "outputId": "cb32f109-c4a1-46ba-da9b-f97560c90a72"
      },
      "execution_count": null,
      "outputs": [
        {
          "output_type": "stream",
          "name": "stdout",
          "text": [
            "d_1x1.csv\n",
            "d_1x1.csv.1\n",
            "pop_1x1.csv\n",
            "pop_1x1.csv.1\n",
            "PopStandard.csv\n",
            "PopStandard.csv.1\n"
          ]
        }
      ]
    },
    {
      "cell_type": "markdown",
      "source": [
        "# ***A.2 Exemple in R***"
      ],
      "metadata": {
        "id": "GgudW4Cv2aaP"
      }
    },
    {
      "cell_type": "code",
      "source": [
        "## Incepem sa lucram in R\n",
        "%load_ext rpy2.ipython"
      ],
      "metadata": {
        "id": "m5KgA8sf2rvH"
      },
      "execution_count": null,
      "outputs": []
    },
    {
      "cell_type": "code",
      "source": [
        "%%R\n",
        "version"
      ],
      "metadata": {
        "colab": {
          "base_uri": "https://localhost:8080/"
        },
        "id": "MQies30eolr8",
        "outputId": "e82baadf-2a0d-4e1c-aa6f-697cd65e5174"
      },
      "execution_count": null,
      "outputs": [
        {
          "output_type": "stream",
          "name": "stdout",
          "text": [
            "               _                           \n",
            "platform       x86_64-pc-linux-gnu         \n",
            "arch           x86_64                      \n",
            "os             linux-gnu                   \n",
            "system         x86_64, linux-gnu           \n",
            "status                                     \n",
            "major          4                           \n",
            "minor          3.1                         \n",
            "year           2023                        \n",
            "month          06                          \n",
            "day            16                          \n",
            "svn rev        84548                       \n",
            "language       R                           \n",
            "version.string R version 4.3.1 (2023-06-16)\n",
            "nickname       Beagle Scouts               \n"
          ]
        }
      ]
    },
    {
      "cell_type": "code",
      "source": [
        "## exemple in R: am creat o variabila X si i-am atribuit o valoare de '1'\n",
        "%%R\n",
        "x<-1\n",
        "y<-2\n",
        "z<-x+y\n",
        "print(z)"
      ],
      "metadata": {
        "colab": {
          "base_uri": "https://localhost:8080/"
        },
        "id": "u1IgzQrgkJWN",
        "outputId": "fa2c2fc6-d504-4d0e-b10f-b609ed6290e4"
      },
      "execution_count": null,
      "outputs": [
        {
          "output_type": "stream",
          "name": "stdout",
          "text": [
            "[1] 3\n"
          ]
        }
      ]
    },
    {
      "cell_type": "code",
      "source": [
        "## exemple in R: am creat un vector 'var' si ..\n",
        "%%R\n",
        "var<-c(1,2,3,4,5)\n",
        "var"
      ],
      "metadata": {
        "colab": {
          "base_uri": "https://localhost:8080/"
        },
        "id": "SYVZsnLxkdIV",
        "outputId": "ed6cd8e1-cc55-44fd-b52f-79e106be176e"
      },
      "execution_count": null,
      "outputs": [
        {
          "output_type": "stream",
          "name": "stdout",
          "text": [
            "[1] 1 2 3 4 5\n"
          ]
        }
      ]
    },
    {
      "cell_type": "code",
      "source": [
        "## exemple in R: .. si am adaugat 1 pentru fiecare valoare din vector\n",
        "%%R\n",
        "var+1"
      ],
      "metadata": {
        "colab": {
          "base_uri": "https://localhost:8080/"
        },
        "id": "eiswCBlNkv1w",
        "outputId": "d8df2a48-c75a-45da-cbab-bff77c868de8"
      },
      "execution_count": null,
      "outputs": [
        {
          "output_type": "stream",
          "name": "stdout",
          "text": [
            "[1] 2 3 4 5 6\n"
          ]
        }
      ]
    },
    {
      "cell_type": "code",
      "source": [
        "## exemple in R: am creat o matrice (3x3) si ..\n",
        "%%R\n",
        "my.matrix<-matrix(1:9, nrow=3, ncol=3)\n",
        "my.matrix"
      ],
      "metadata": {
        "colab": {
          "base_uri": "https://localhost:8080/"
        },
        "id": "qTvxpO4ZlIOF",
        "outputId": "42cc32f9-f98d-4b2f-8f10-fd4acc3a35a8"
      },
      "execution_count": null,
      "outputs": [
        {
          "output_type": "stream",
          "name": "stdout",
          "text": [
            "     [,1] [,2] [,3]\n",
            "[1,]    1    4    7\n",
            "[2,]    2    5    8\n",
            "[3,]    3    6    9\n"
          ]
        }
      ]
    },
    {
      "cell_type": "code",
      "source": [
        "## .. si am transformat-o in 'data frame'\n",
        "%%R\n",
        "my.table<-as.data.frame(my.matrix)\n",
        "my.table"
      ],
      "metadata": {
        "colab": {
          "base_uri": "https://localhost:8080/"
        },
        "id": "tpnomQ6WmrIA",
        "outputId": "2cc08c21-35ff-47bd-c041-9ef3cedde351"
      },
      "execution_count": null,
      "outputs": [
        {
          "output_type": "stream",
          "name": "stdout",
          "text": [
            "  V1 V2 V3\n",
            "1  1  4  7\n",
            "2  2  5  8\n",
            "3  3  6  9\n"
          ]
        }
      ]
    },
    {
      "cell_type": "code",
      "source": [
        "## am extras valorile pentru variabila 'V2' din 'my.table'\n",
        "%%R\n",
        "my.table$V2"
      ],
      "metadata": {
        "colab": {
          "base_uri": "https://localhost:8080/"
        },
        "id": "fmAu07t6oSzi",
        "outputId": "d60bc4ed-f837-42fc-9719-122bc1a0c9a4"
      },
      "execution_count": null,
      "outputs": [
        {
          "output_type": "stream",
          "name": "stdout",
          "text": [
            "[1] 4 5 6\n"
          ]
        }
      ]
    },
    {
      "cell_type": "code",
      "source": [
        "## am extras o valoare din 'my.table' (randul = 2, coloana = 3)\n",
        "%%R\n",
        "my.table[2,3]"
      ],
      "metadata": {
        "colab": {
          "base_uri": "https://localhost:8080/"
        },
        "id": "ASY_OSqhokZC",
        "outputId": "e5226fa5-0fd7-4262-dac0-4e6baaa3adcd"
      },
      "execution_count": null,
      "outputs": [
        {
          "output_type": "stream",
          "name": "stdout",
          "text": [
            "[1] 8\n"
          ]
        }
      ]
    },
    {
      "cell_type": "code",
      "source": [
        "## Obiectele create in R pot fi vizibile cu ajutorul functiei ls()\n",
        "%%R\n",
        "ls()"
      ],
      "metadata": {
        "colab": {
          "base_uri": "https://localhost:8080/"
        },
        "id": "e4twnmpjl81V",
        "outputId": "c48947b0-902b-4316-939b-0be44ae9539e"
      },
      "execution_count": null,
      "outputs": [
        {
          "output_type": "stream",
          "name": "stdout",
          "text": [
            "[1] \"my.matrix\" \"my.table\"  \"var\"       \"x\"         \"y\"         \"z\"        \n"
          ]
        }
      ]
    },
    {
      "cell_type": "code",
      "source": [
        "## Stergem obiectele create folosind functia rm()\n",
        "%%R\n",
        "rm(\"my.matrix\")"
      ],
      "metadata": {
        "id": "qRmDcP8UmhJJ"
      },
      "execution_count": null,
      "outputs": []
    },
    {
      "cell_type": "code",
      "source": [
        "## Stergem toate obiectele create\n",
        "%%R\n",
        "rm(list = ls())\n",
        "ls()"
      ],
      "metadata": {
        "colab": {
          "base_uri": "https://localhost:8080/"
        },
        "id": "nNObLbtgnB9l",
        "outputId": "d76c8c59-a08f-48eb-e85d-87fda68dbe3b"
      },
      "execution_count": null,
      "outputs": [
        {
          "output_type": "stream",
          "name": "stdout",
          "text": [
            "character(0)\n"
          ]
        }
      ]
    },
    {
      "cell_type": "markdown",
      "source": [
        "![image.png](data:image/png;base64,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)"
      ],
      "metadata": {
        "id": "qAuNs3h_oFk_"
      }
    },
    {
      "cell_type": "markdown",
      "source": [
        "# ***A.3 Descarcarea datelor in R***"
      ],
      "metadata": {
        "id": "G5yFmAuupPUO"
      }
    },
    {
      "cell_type": "code",
      "source": [
        "## Cream tabelul 'data.pop' (read.csv) si vedem structura (str) tabelului in R\n",
        "%%R\n",
        "data.pop<-read.csv(file='/content/Data/pop_1x1.csv', header = TRUE, sep=\",\", stringsAsFactors=FALSE)\n",
        "str(data.pop)\n",
        "class(data.pop)"
      ],
      "metadata": {
        "colab": {
          "base_uri": "https://localhost:8080/"
        },
        "id": "hxoN1ah03mTI",
        "outputId": "0f6e9a98-a3c8-4f3f-8a92-f5a08745b9ea"
      },
      "execution_count": null,
      "outputs": [
        {
          "output_type": "stream",
          "name": "stdout",
          "text": [
            "'data.frame':\t870 obs. of  5 variables:\n",
            " $ Area  : chr  \"TOT\" \"TOT\" \"TOT\" \"TOT\" ...\n",
            " $ Year  : int  2014 2014 2014 2014 2014 2014 2014 2014 2014 2014 ...\n",
            " $ Age   : int  999 0 1 2 3 4 5 6 7 8 ...\n",
            " $ Male  : int  1375786 19484 19349 18597 19348 19590 18262 18149 17203 16699 ...\n",
            " $ Female: int  1493516 18494 18304 17713 18396 18272 17592 17034 16060 15968 ...\n",
            "[1] \"data.frame\"\n"
          ]
        }
      ]
    },
    {
      "cell_type": "code",
      "source": [
        "## Cream tabelul 'data.d' (read.csv) si vedem structura (str) tabelului in R\n",
        "%%R\n",
        "data.d<-read.csv(file='/content/Data/d_1x1.csv', header = TRUE, sep=\",\", stringsAsFactors=FALSE)\n",
        "str(data.d)\n",
        "class(data.d)"
      ],
      "metadata": {
        "colab": {
          "base_uri": "https://localhost:8080/"
        },
        "id": "nPvWGLUXDZzi",
        "outputId": "f60fdc77-bf24-4891-eab7-de44d65d5c24"
      },
      "execution_count": null,
      "outputs": [
        {
          "output_type": "stream",
          "name": "stdout",
          "text": [
            "'data.frame':\t918 obs. of  5 variables:\n",
            " $ Area  : chr  \"TOT\" \"TOT\" \"TOT\" \"TOT\" ...\n",
            " $ Age   : int  999 0 1 2 3 4 5 6 7 8 ...\n",
            " $ Year  : int  2014 2014 2014 2014 2014 2014 2014 2014 2014 2014 ...\n",
            " $ Male  : int  20672 220 21 13 7 3 2 5 5 4 ...\n",
            " $ Female: int  18850 152 14 9 8 6 4 2 1 2 ...\n",
            "[1] \"data.frame\"\n"
          ]
        }
      ]
    },
    {
      "cell_type": "code",
      "source": [
        "## Cream tabelul 'pop.st' (read.csv) si vedem structura (str) tabelului in R\n",
        "%%R\n",
        "pop.st<-read.csv(file='/content/Data/PopStandard.csv', header = TRUE, sep=\",\", stringsAsFactors=FALSE)\n",
        "str(pop.st)\n",
        "class(pop.st)"
      ],
      "metadata": {
        "colab": {
          "base_uri": "https://localhost:8080/"
        },
        "id": "M22JnD37Dm88",
        "outputId": "7a24f746-f468-4d95-a9b6-e9058984f43e"
      },
      "execution_count": null,
      "outputs": [
        {
          "output_type": "stream",
          "name": "stdout",
          "text": [
            "'data.frame':\t19 obs. of  2 variables:\n",
            " $ Age: int  0 1 5 10 15 20 25 30 35 40 ...\n",
            " $ Pop: int  1000 4000 5500 5500 5500 6000 6000 6500 7000 7000 ...\n",
            "[1] \"data.frame\"\n"
          ]
        }
      ]
    },
    {
      "cell_type": "code",
      "source": [
        "## Vedem obiectele create in R\n",
        "%%R\n",
        "ls()"
      ],
      "metadata": {
        "colab": {
          "base_uri": "https://localhost:8080/"
        },
        "id": "AY0MjyA7nRgF",
        "outputId": "9194ef38-7a87-4ac7-d7bf-904aeae86ca1"
      },
      "execution_count": null,
      "outputs": [
        {
          "output_type": "stream",
          "name": "stdout",
          "text": [
            "[1] \"data.d\"   \"data.pop\" \"pop.st\"  \n"
          ]
        }
      ]
    },
    {
      "cell_type": "markdown",
      "source": [
        "# ***A.4 Prelucrarea preliminara a datelor privind populatia in R***"
      ],
      "metadata": {
        "id": "Bo9B2-JbaRoa"
      }
    },
    {
      "cell_type": "code",
      "source": [
        "## Vizualizam primele cinci randuri in tabelul 'data.pop' (head)\n",
        "%%R\n",
        "head(data.pop, 5)"
      ],
      "metadata": {
        "colab": {
          "base_uri": "https://localhost:8080/"
        },
        "id": "OxZThhWLCmH7",
        "outputId": "c1a58736-12f5-4cac-bf1f-b1b2ff8ef6d6"
      },
      "execution_count": null,
      "outputs": [
        {
          "output_type": "stream",
          "name": "stdout",
          "text": [
            "  Area Year Age    Male  Female\n",
            "1  TOT 2014 999 1375786 1493516\n",
            "2  TOT 2014   0   19484   18494\n",
            "3  TOT 2014   1   19349   18304\n",
            "4  TOT 2014   2   18597   17713\n",
            "5  TOT 2014   3   19348   18396\n"
          ]
        }
      ]
    },
    {
      "cell_type": "code",
      "source": [
        "## Care sunt valorile unice pentru variabila \"Year\" (An)\n",
        "%%R\n",
        "unique(data.pop$Year)"
      ],
      "metadata": {
        "colab": {
          "base_uri": "https://localhost:8080/"
        },
        "id": "2Pvtu7RwD9GN",
        "outputId": "7cc6447f-b966-4cd9-aa7f-f89df834f915"
      },
      "execution_count": null,
      "outputs": [
        {
          "output_type": "stream",
          "name": "stdout",
          "text": [
            " [1] 2014 2015 2016 2017 2018 2019 2020 2021 2022 2023\n"
          ]
        }
      ]
    },
    {
      "cell_type": "code",
      "source": [
        "## Instalam pachetul 'tidyr' (install.packages) si il activam (library). Instalarea si activarea se face o singura data\n",
        "%%R\n",
        "install.packages('tidyr')\n",
        "library(tidyr)"
      ],
      "metadata": {
        "id": "AeuUx8rL4hOG",
        "colab": {
          "base_uri": "https://localhost:8080/"
        },
        "outputId": "819ea7cd-666f-4647-b3f0-f78e8e70a083"
      },
      "execution_count": null,
      "outputs": [
        {
          "output_type": "stream",
          "name": "stderr",
          "text": [
            "WARNING:rpy2.rinterface_lib.callbacks:R[write to console]: Installing package into ‘/usr/local/lib/R/site-library’\n",
            "(as ‘lib’ is unspecified)\n",
            "\n",
            "WARNING:rpy2.rinterface_lib.callbacks:R[write to console]: trying URL 'https://cran.rstudio.com/src/contrib/tidyr_1.3.0.tar.gz'\n",
            "\n",
            "WARNING:rpy2.rinterface_lib.callbacks:R[write to console]: Content type 'application/x-gzip'\n",
            "WARNING:rpy2.rinterface_lib.callbacks:R[write to console]:  length 823546 bytes (804 KB)\n",
            "\n",
            "WARNING:rpy2.rinterface_lib.callbacks:R[write to console]: =\n",
            "WARNING:rpy2.rinterface_lib.callbacks:R[write to console]: =\n",
            "WARNING:rpy2.rinterface_lib.callbacks:R[write to console]: =\n",
            "WARNING:rpy2.rinterface_lib.callbacks:R[write to console]: =\n",
            "WARNING:rpy2.rinterface_lib.callbacks:R[write to console]: =\n",
            "WARNING:rpy2.rinterface_lib.callbacks:R[write to console]: =\n",
            "WARNING:rpy2.rinterface_lib.callbacks:R[write to console]: =\n",
            "WARNING:rpy2.rinterface_lib.callbacks:R[write to console]: =\n",
            "WARNING:rpy2.rinterface_lib.callbacks:R[write to console]: =\n",
            "WARNING:rpy2.rinterface_lib.callbacks:R[write to console]: =\n",
            "WARNING:rpy2.rinterface_lib.callbacks:R[write to console]: =\n",
            "WARNING:rpy2.rinterface_lib.callbacks:R[write to console]: =\n",
            "WARNING:rpy2.rinterface_lib.callbacks:R[write to console]: =\n",
            "WARNING:rpy2.rinterface_lib.callbacks:R[write to console]: =\n",
            "WARNING:rpy2.rinterface_lib.callbacks:R[write to console]: =\n",
            "WARNING:rpy2.rinterface_lib.callbacks:R[write to console]: =\n",
            "WARNING:rpy2.rinterface_lib.callbacks:R[write to console]: =\n",
            "WARNING:rpy2.rinterface_lib.callbacks:R[write to console]: =\n",
            "WARNING:rpy2.rinterface_lib.callbacks:R[write to console]: =\n",
            "WARNING:rpy2.rinterface_lib.callbacks:R[write to console]: =\n",
            "WARNING:rpy2.rinterface_lib.callbacks:R[write to console]: =\n",
            "WARNING:rpy2.rinterface_lib.callbacks:R[write to console]: =\n",
            "WARNING:rpy2.rinterface_lib.callbacks:R[write to console]: =\n",
            "WARNING:rpy2.rinterface_lib.callbacks:R[write to console]: =\n",
            "WARNING:rpy2.rinterface_lib.callbacks:R[write to console]: =\n",
            "WARNING:rpy2.rinterface_lib.callbacks:R[write to console]: =\n",
            "WARNING:rpy2.rinterface_lib.callbacks:R[write to console]: =\n",
            "WARNING:rpy2.rinterface_lib.callbacks:R[write to console]: =\n",
            "WARNING:rpy2.rinterface_lib.callbacks:R[write to console]: =\n",
            "WARNING:rpy2.rinterface_lib.callbacks:R[write to console]: =\n",
            "WARNING:rpy2.rinterface_lib.callbacks:R[write to console]: =\n",
            "WARNING:rpy2.rinterface_lib.callbacks:R[write to console]: =\n",
            "WARNING:rpy2.rinterface_lib.callbacks:R[write to console]: =\n",
            "WARNING:rpy2.rinterface_lib.callbacks:R[write to console]: =\n",
            "WARNING:rpy2.rinterface_lib.callbacks:R[write to console]: =\n",
            "WARNING:rpy2.rinterface_lib.callbacks:R[write to console]: =\n",
            "WARNING:rpy2.rinterface_lib.callbacks:R[write to console]: =\n",
            "WARNING:rpy2.rinterface_lib.callbacks:R[write to console]: =\n",
            "WARNING:rpy2.rinterface_lib.callbacks:R[write to console]: =\n",
            "WARNING:rpy2.rinterface_lib.callbacks:R[write to console]: =\n",
            "WARNING:rpy2.rinterface_lib.callbacks:R[write to console]: =\n",
            "WARNING:rpy2.rinterface_lib.callbacks:R[write to console]: =\n",
            "WARNING:rpy2.rinterface_lib.callbacks:R[write to console]: =\n",
            "WARNING:rpy2.rinterface_lib.callbacks:R[write to console]: =\n",
            "WARNING:rpy2.rinterface_lib.callbacks:R[write to console]: =\n",
            "WARNING:rpy2.rinterface_lib.callbacks:R[write to console]: =\n",
            "WARNING:rpy2.rinterface_lib.callbacks:R[write to console]: =\n",
            "WARNING:rpy2.rinterface_lib.callbacks:R[write to console]: =\n",
            "WARNING:rpy2.rinterface_lib.callbacks:R[write to console]: =\n",
            "WARNING:rpy2.rinterface_lib.callbacks:R[write to console]: =\n",
            "WARNING:rpy2.rinterface_lib.callbacks:R[write to console]: \n",
            "\n",
            "WARNING:rpy2.rinterface_lib.callbacks:R[write to console]: downloaded 804 KB\n",
            "\n",
            "\n",
            "WARNING:rpy2.rinterface_lib.callbacks:R[write to console]: \n",
            "\n",
            "WARNING:rpy2.rinterface_lib.callbacks:R[write to console]: \n",
            "WARNING:rpy2.rinterface_lib.callbacks:R[write to console]: The downloaded source packages are in\n",
            "\t‘/tmp/RtmpRaUTB3/downloaded_packages’\n",
            "WARNING:rpy2.rinterface_lib.callbacks:R[write to console]: \n",
            "WARNING:rpy2.rinterface_lib.callbacks:R[write to console]: \n",
            "\n"
          ]
        }
      ]
    },
    {
      "cell_type": "code",
      "source": [
        "## transformam formatul tabelului 'data.pop' din 'lung' in 'lat'\n",
        "%%R\n",
        "data.pop1<-gather(data.pop, key=\"Sex\", value=\"Population\", Male:Female)\n",
        "head(data.pop1)"
      ],
      "metadata": {
        "colab": {
          "base_uri": "https://localhost:8080/"
        },
        "id": "PE_Y7EvcIQ9y",
        "outputId": "aa8ce92d-a160-4aea-daca-6fa3226bcb2c"
      },
      "execution_count": null,
      "outputs": [
        {
          "output_type": "stream",
          "name": "stdout",
          "text": [
            "  Area Year Age  Sex Population\n",
            "1  TOT 2014 999 Male    1375786\n",
            "2  TOT 2014   0 Male      19484\n",
            "3  TOT 2014   1 Male      19349\n",
            "4  TOT 2014   2 Male      18597\n",
            "5  TOT 2014   3 Male      19348\n",
            "6  TOT 2014   4 Male      19590\n"
          ]
        }
      ]
    },
    {
      "cell_type": "code",
      "source": [
        "## Grupe de varsta in 'data.pop1'\n",
        "%%R\n",
        "unique(data.pop1$Age)"
      ],
      "metadata": {
        "colab": {
          "base_uri": "https://localhost:8080/"
        },
        "id": "2IfzDmB9U2VS",
        "outputId": "29bebaff-e657-45f9-d452-b8b854b77e58"
      },
      "execution_count": null,
      "outputs": [
        {
          "output_type": "stream",
          "name": "stdout",
          "text": [
            " [1] 999   0   1   2   3   4   5   6   7   8   9  10  11  12  13  14  15  16  17\n",
            "[20]  18  19  20  21  22  23  24  25  26  27  28  29  30  31  32  33  34  35  36\n",
            "[39]  37  38  39  40  41  42  43  44  45  46  47  48  49  50  51  52  53  54  55\n",
            "[58]  56  57  58  59  60  61  62  63  64  65  66  67  68  69  70  71  72  73  74\n",
            "[77]  75  76  77  78  79  80  81  82  83  84  85\n"
          ]
        }
      ]
    },
    {
      "cell_type": "code",
      "source": [
        "## excludem varsta = 999 (toate varstele) din tabelul 'data.pop1'\n",
        "%%R\n",
        "data.pop1<-data.pop1[data.pop1$Age!=999,]"
      ],
      "metadata": {
        "id": "GhboENRKV2EB"
      },
      "execution_count": null,
      "outputs": []
    },
    {
      "cell_type": "code",
      "source": [
        "%%R\n",
        "str(data.pop1)"
      ],
      "metadata": {
        "colab": {
          "base_uri": "https://localhost:8080/"
        },
        "id": "XTpos8MOVtyo",
        "outputId": "b5d2e964-df6b-4a82-aea4-cddfafee4e41"
      },
      "execution_count": null,
      "outputs": [
        {
          "output_type": "stream",
          "name": "stdout",
          "text": [
            "'data.frame':\t1720 obs. of  5 variables:\n",
            " $ Area      : chr  \"TOT\" \"TOT\" \"TOT\" \"TOT\" ...\n",
            " $ Year      : int  2014 2014 2014 2014 2014 2014 2014 2014 2014 2014 ...\n",
            " $ Age       : int  0 1 2 3 4 5 6 7 8 9 ...\n",
            " $ Sex       : chr  \"Male\" \"Male\" \"Male\" \"Male\" ...\n",
            " $ Population: int  19484 19349 18597 19348 19590 18262 18149 17203 16699 16626 ...\n"
          ]
        }
      ]
    },
    {
      "cell_type": "code",
      "source": [
        "## cream o variabila 'Age1' pentru grupe cincinale (0, 1-4, 5-9, ... 85+)\n",
        "%%R\n",
        "data.pop1$Age1<-cut(data.pop1$Age,\n",
        "                   breaks=c(-Inf, 1,5,10,15,20,25,30,35, 40,45,50,55, 60,65,70,75,80,85,Inf),\n",
        "                   labels=c(0,1,5,10,15,20,25,30,35, 40,45,50,55, 60,65,70,75,80,85),\n",
        "                   right=FALSE)\n",
        "head(data.pop1, 15)"
      ],
      "metadata": {
        "colab": {
          "base_uri": "https://localhost:8080/"
        },
        "id": "Zj0E9bcKTsL_",
        "outputId": "681e583e-b757-4d18-d2a1-5c472f52cda6"
      },
      "execution_count": null,
      "outputs": [
        {
          "output_type": "stream",
          "name": "stdout",
          "text": [
            "   Area Year Age  Sex Population Age1\n",
            "2   TOT 2014   0 Male      19484    0\n",
            "3   TOT 2014   1 Male      19349    1\n",
            "4   TOT 2014   2 Male      18597    1\n",
            "5   TOT 2014   3 Male      19348    1\n",
            "6   TOT 2014   4 Male      19590    1\n",
            "7   TOT 2014   5 Male      18262    5\n",
            "8   TOT 2014   6 Male      18149    5\n",
            "9   TOT 2014   7 Male      17203    5\n",
            "10  TOT 2014   8 Male      16699    5\n",
            "11  TOT 2014   9 Male      16626    5\n",
            "12  TOT 2014  10 Male      15728   10\n",
            "13  TOT 2014  11 Male      16055   10\n",
            "14  TOT 2014  12 Male      15515   10\n",
            "15  TOT 2014  13 Male      16779   10\n",
            "16  TOT 2014  14 Male      16365   10\n"
          ]
        }
      ]
    },
    {
      "cell_type": "code",
      "source": [
        "## agregam populatia pe grupe cincinale (aggregate)\n",
        "%%R\n",
        "data.pop2<-aggregate(data.pop1$Population, by=list(data.pop1$Area, data.pop1$Year, data.pop1$Age1, data.pop1$Sex), sum)\n",
        "head(data.pop2)"
      ],
      "metadata": {
        "colab": {
          "base_uri": "https://localhost:8080/"
        },
        "id": "fQdDkOREXVRN",
        "outputId": "d7513ce5-e127-44b2-e8f0-df0e2eed48df"
      },
      "execution_count": null,
      "outputs": [
        {
          "output_type": "stream",
          "name": "stdout",
          "text": [
            "  Group.1 Group.2 Group.3 Group.4     x\n",
            "1     TOT    2014       0  Female 18494\n",
            "2     TOT    2015       0  Female 19535\n",
            "3     TOT    2016       0  Female 19423\n",
            "4     TOT    2017       0  Female 19011\n",
            "5     TOT    2018       0  Female 17327\n",
            "6     TOT    2019       0  Female 16050\n"
          ]
        }
      ]
    },
    {
      "cell_type": "code",
      "source": [
        "## Denumim coloanele din nou tabel (colnames)\n",
        "%%R\n",
        "colnames(data.pop2)<-c('Area', 'Year','Age','Sex','Population')\n",
        "head(data.pop2)\n",
        "str(data.pop2)"
      ],
      "metadata": {
        "colab": {
          "base_uri": "https://localhost:8080/"
        },
        "id": "GuQ7nRYMYAW6",
        "outputId": "33c04c7f-125b-4fe8-f7ba-c741e57024ec"
      },
      "execution_count": null,
      "outputs": [
        {
          "output_type": "stream",
          "name": "stdout",
          "text": [
            "'data.frame':\t380 obs. of  5 variables:\n",
            " $ Area      : chr  \"TOT\" \"TOT\" \"TOT\" \"TOT\" ...\n",
            " $ Year      : int  2014 2015 2016 2017 2018 2019 2020 2021 2022 2023 ...\n",
            " $ Age       : Factor w/ 19 levels \"0\",\"1\",\"5\",\"10\",..: 1 1 1 1 1 1 1 1 1 1 ...\n",
            " $ Sex       : chr  \"Female\" \"Female\" \"Female\" \"Female\" ...\n",
            " $ Population: int  18494 19535 19423 19011 17327 16050 15013 14258 13347 12229 ...\n"
          ]
        }
      ]
    },
    {
      "cell_type": "code",
      "source": [
        "## Schimbam formatul coloanei 'Age' (din Factor la Character)\n",
        "%%R\n",
        "data.pop2$Age<-as.character(data.pop2$Age)\n",
        "str(data.pop2)\n",
        "unique(data.pop2$Age)"
      ],
      "metadata": {
        "colab": {
          "base_uri": "https://localhost:8080/"
        },
        "id": "E5pEOW7nYuUk",
        "outputId": "27d40406-4d53-4c88-9036-931f9d4697a9"
      },
      "execution_count": null,
      "outputs": [
        {
          "output_type": "stream",
          "name": "stdout",
          "text": [
            "'data.frame':\t380 obs. of  5 variables:\n",
            " $ Area      : chr  \"TOT\" \"TOT\" \"TOT\" \"TOT\" ...\n",
            " $ Year      : int  2014 2015 2016 2017 2018 2019 2020 2021 2022 2023 ...\n",
            " $ Age       : chr  \"0\" \"0\" \"0\" \"0\" ...\n",
            " $ Sex       : chr  \"Female\" \"Female\" \"Female\" \"Female\" ...\n",
            " $ Population: int  18494 19535 19423 19011 17327 16050 15013 14258 13347 12229 ...\n",
            " [1] \"0\"  \"1\"  \"5\"  \"10\" \"15\" \"20\" \"25\" \"30\" \"35\" \"40\" \"45\" \"50\" \"55\" \"60\" \"65\"\n",
            "[16] \"70\" \"75\" \"80\" \"85\"\n"
          ]
        }
      ]
    },
    {
      "cell_type": "code",
      "source": [
        "## Salvam datele in format .csv in mapa 'Output'\n",
        "%%R\n",
        "write.table(data.pop2, file = \"/content/Output/population.csv\", sep = \",\", quote = FALSE, append = FALSE, na = \"NA\", row.names=FALSE)"
      ],
      "metadata": {
        "id": "uXQJDoAjmLam"
      },
      "execution_count": null,
      "outputs": []
    },
    {
      "cell_type": "markdown",
      "source": [
        "# ***A.5 Prelucrarea preliminara a datelor privind numarul deceselor in R (lucrul individual)***"
      ],
      "metadata": {
        "id": "SbUSBqXbZjT0"
      }
    },
    {
      "cell_type": "code",
      "source": [
        "## Vizualizati primele cinci randuri in tabelul 'data.d' (head)\n",
        "%%R\n",
        "head(data.d, 5)"
      ],
      "metadata": {
        "colab": {
          "base_uri": "https://localhost:8080/"
        },
        "id": "XPAcvpVjZvX1",
        "outputId": "437670a3-71c2-4f00-a7bc-9fe49b03795f"
      },
      "execution_count": null,
      "outputs": [
        {
          "output_type": "stream",
          "name": "stdout",
          "text": [
            "  Area Age Year  Male Female\n",
            "1  TOT 999 2014 20672  18850\n",
            "2  TOT   0 2014   220    152\n",
            "3  TOT   1 2014    21     14\n",
            "4  TOT   2 2014    13      9\n",
            "5  TOT   3 2014     7      8\n"
          ]
        }
      ]
    },
    {
      "cell_type": "code",
      "source": [
        "## Care sunt valorile unice pentru variabila \"Year\" (An)\n",
        "%%R\n",
        "unique(data.d$Year)"
      ],
      "metadata": {
        "colab": {
          "base_uri": "https://localhost:8080/"
        },
        "id": "Rhcaru42bN4Z",
        "outputId": "77b1e390-ba47-4a99-8315-e698a48df0a7"
      },
      "execution_count": null,
      "outputs": [
        {
          "output_type": "stream",
          "name": "stdout",
          "text": [
            "[1] 2014 2015 2016 2017 2018 2019 2020 2021 2022\n"
          ]
        }
      ]
    },
    {
      "cell_type": "code",
      "source": [
        "## transformati formatul tabelului 'data.d' din 'lung' in 'larg'\n",
        "%%R\n",
        "data.d1<-gather(data.d, key=\"Sex\", value=\"Deaths\", Male:Female)\n",
        "head(data.d1)"
      ],
      "metadata": {
        "colab": {
          "base_uri": "https://localhost:8080/"
        },
        "id": "dQaQO28nbVOa",
        "outputId": "dd3fc792-364a-409d-9b08-67d1067954ff"
      },
      "execution_count": null,
      "outputs": [
        {
          "output_type": "stream",
          "name": "stdout",
          "text": [
            "  Area Age Year  Sex Deaths\n",
            "1  TOT 999 2014 Male  20672\n",
            "2  TOT   0 2014 Male    220\n",
            "3  TOT   1 2014 Male     21\n",
            "4  TOT   2 2014 Male     13\n",
            "5  TOT   3 2014 Male      7\n",
            "6  TOT   4 2014 Male      3\n"
          ]
        }
      ]
    },
    {
      "cell_type": "code",
      "source": [
        "## Care sunt grupe de varsta in 'data.d1'\n",
        "%%R\n",
        "unique(data.d1$Age)"
      ],
      "metadata": {
        "colab": {
          "base_uri": "https://localhost:8080/"
        },
        "id": "X1d3Ov-xcGgC",
        "outputId": "b0a122be-6ed6-4bb3-cdfa-26e54148342f"
      },
      "execution_count": null,
      "outputs": [
        {
          "output_type": "stream",
          "name": "stdout",
          "text": [
            "  [1] 999   0   1   2   3   4   5   6   7   8   9  10  11  12  13  14  15  16\n",
            " [19]  17  18  19  20  21  22  23  24  25  26  27  28  29  30  31  32  33  34\n",
            " [37]  35  36  37  38  39  40  41  42  43  44  45  46  47  48  49  50  51  52\n",
            " [55]  53  54  55  56  57  58  59  60  61  62  63  64  65  66  67  68  69  70\n",
            " [73]  71  72  73  74  75  76  77  78  79  80  81  82  83  84  85  86  87  88\n",
            " [91]  89  90  91  92  93  94  95  96  97  98  99 100\n"
          ]
        }
      ]
    },
    {
      "cell_type": "code",
      "source": [
        "## Excludeti varsta = 999 (toate varstele) din tabelul 'data.d1'\n",
        "%%R\n",
        "data.d1<-data.d1[data.d1$Age!=999,]"
      ],
      "metadata": {
        "id": "NIUYGxVVcPAn"
      },
      "execution_count": null,
      "outputs": []
    },
    {
      "cell_type": "code",
      "source": [
        "%%R\n",
        "str(data.d1)"
      ],
      "metadata": {
        "colab": {
          "base_uri": "https://localhost:8080/"
        },
        "id": "VoZo_zgQcrvD",
        "outputId": "2224c902-9408-4e2a-c193-bdcdda2a0242"
      },
      "execution_count": null,
      "outputs": [
        {
          "output_type": "stream",
          "name": "stdout",
          "text": [
            "'data.frame':\t1818 obs. of  5 variables:\n",
            " $ Area  : chr  \"TOT\" \"TOT\" \"TOT\" \"TOT\" ...\n",
            " $ Age   : int  0 1 2 3 4 5 6 7 8 9 ...\n",
            " $ Year  : int  2014 2014 2014 2014 2014 2014 2014 2014 2014 2014 ...\n",
            " $ Sex   : chr  \"Male\" \"Male\" \"Male\" \"Male\" ...\n",
            " $ Deaths: int  220 21 13 7 3 2 5 5 4 7 ...\n"
          ]
        }
      ]
    },
    {
      "cell_type": "code",
      "source": [
        "## Creati o variabila 'Age1' pentru grupe cincinale (0, 1-4, 5-9, ... 85+)\n",
        "%%R\n",
        "data.d1$Age1<-cut(data.d1$Age,\n",
        "                   breaks=c(-Inf, 1,5,10,15,20,25,30,35, 40,45,50,55, 60,65,70,75,80,85,Inf),\n",
        "                   labels=c(0,1,5,10,15,20,25,30,35, 40,45,50,55, 60,65,70,75,80,85),\n",
        "                   right=FALSE)\n",
        "head(data.d1, 15)"
      ],
      "metadata": {
        "colab": {
          "base_uri": "https://localhost:8080/"
        },
        "id": "7wQ8AKoycisD",
        "outputId": "2cae6665-577e-4720-84da-1382f9e3033b"
      },
      "execution_count": null,
      "outputs": [
        {
          "output_type": "stream",
          "name": "stdout",
          "text": [
            "   Area Age Year  Sex Deaths Age1\n",
            "2   TOT   0 2014 Male    220    0\n",
            "3   TOT   1 2014 Male     21    1\n",
            "4   TOT   2 2014 Male     13    1\n",
            "5   TOT   3 2014 Male      7    1\n",
            "6   TOT   4 2014 Male      3    1\n",
            "7   TOT   5 2014 Male      2    5\n",
            "8   TOT   6 2014 Male      5    5\n",
            "9   TOT   7 2014 Male      5    5\n",
            "10  TOT   8 2014 Male      4    5\n",
            "11  TOT   9 2014 Male      7    5\n",
            "12  TOT  10 2014 Male      4   10\n",
            "13  TOT  11 2014 Male      6   10\n",
            "14  TOT  12 2014 Male      3   10\n",
            "15  TOT  13 2014 Male      8   10\n",
            "16  TOT  14 2014 Male     11   10\n"
          ]
        }
      ]
    },
    {
      "cell_type": "code",
      "source": [
        "## Agregati populatia pe grupe cincinale (aggregate)\n",
        "%%R\n",
        "data.d2<-aggregate(data.d1$Deaths, by=list(data.d1$Area, data.d1$Year, data.d1$Age1, data.d1$Sex), sum)\n",
        "head(data.d2)"
      ],
      "metadata": {
        "colab": {
          "base_uri": "https://localhost:8080/"
        },
        "id": "6At0eD8MdAYQ",
        "outputId": "acdd9bd7-3137-445a-809b-b48d6654de89"
      },
      "execution_count": null,
      "outputs": [
        {
          "output_type": "stream",
          "name": "stdout",
          "text": [
            "  Group.1 Group.2 Group.3 Group.4   x\n",
            "1     TOT    2014       0  Female 152\n",
            "2     TOT    2015       0  Female 147\n",
            "3     TOT    2016       0  Female 145\n",
            "4     TOT    2017       0  Female 147\n",
            "5     TOT    2018       0  Female 127\n",
            "6     TOT    2019       0  Female 130\n"
          ]
        }
      ]
    },
    {
      "cell_type": "code",
      "source": [
        "## Denumiti coloanele din nou tabel (colnames)\n",
        "%%R\n",
        "colnames(data.d2)<-c('Area', 'Year','Age','Sex','Deaths')\n",
        "head(data.d2)\n",
        "str(data.d2)"
      ],
      "metadata": {
        "colab": {
          "base_uri": "https://localhost:8080/"
        },
        "id": "5KvGqztheXuk",
        "outputId": "b6222238-004c-48e8-95d6-4e8b201c934a"
      },
      "execution_count": null,
      "outputs": [
        {
          "output_type": "stream",
          "name": "stdout",
          "text": [
            "'data.frame':\t342 obs. of  5 variables:\n",
            " $ Area  : chr  \"TOT\" \"TOT\" \"TOT\" \"TOT\" ...\n",
            " $ Year  : int  2014 2015 2016 2017 2018 2019 2020 2021 2022 2014 ...\n",
            " $ Age   : Factor w/ 19 levels \"0\",\"1\",\"5\",\"10\",..: 1 1 1 1 1 1 1 1 1 2 ...\n",
            " $ Sex   : chr  \"Female\" \"Female\" \"Female\" \"Female\" ...\n",
            " $ Deaths: int  152 147 145 147 127 130 123 114 109 37 ...\n"
          ]
        }
      ]
    },
    {
      "cell_type": "code",
      "source": [
        "## Schimbati formatul coloanei 'Age' (din Factor la Character)\n",
        "%%R\n",
        "data.d2$Age<-as.character(data.d2$Age)\n",
        "str(data.d2)\n",
        "unique(data.d2$Age)"
      ],
      "metadata": {
        "colab": {
          "base_uri": "https://localhost:8080/"
        },
        "id": "CmM3y96zeoh1",
        "outputId": "09f44ab9-93ce-4499-f7a5-d5244f1d07b7"
      },
      "execution_count": null,
      "outputs": [
        {
          "output_type": "stream",
          "name": "stdout",
          "text": [
            "'data.frame':\t342 obs. of  5 variables:\n",
            " $ Area  : chr  \"TOT\" \"TOT\" \"TOT\" \"TOT\" ...\n",
            " $ Year  : int  2014 2015 2016 2017 2018 2019 2020 2021 2022 2014 ...\n",
            " $ Age   : chr  \"0\" \"0\" \"0\" \"0\" ...\n",
            " $ Sex   : chr  \"Female\" \"Female\" \"Female\" \"Female\" ...\n",
            " $ Deaths: int  152 147 145 147 127 130 123 114 109 37 ...\n",
            " [1] \"0\"  \"1\"  \"5\"  \"10\" \"15\" \"20\" \"25\" \"30\" \"35\" \"40\" \"45\" \"50\" \"55\" \"60\" \"65\"\n",
            "[16] \"70\" \"75\" \"80\" \"85\"\n"
          ]
        }
      ]
    },
    {
      "cell_type": "code",
      "source": [
        "## Salvati datele in format .csv in mapa 'Output'\n",
        "%%R\n",
        "write.table(data.d2, file = \"/content/Output/deaths.csv\", sep = \",\", quote = FALSE, append = FALSE, na = \"NA\", row.names=FALSE)"
      ],
      "metadata": {
        "id": "dEaCnJpsi2sy"
      },
      "execution_count": null,
      "outputs": []
    },
    {
      "cell_type": "markdown",
      "source": [
        "# ***A.6 Calcularea ratelor standardizate ale mortalitatii prin metoda directa in R:***"
      ],
      "metadata": {
        "id": "Xv4TVGXve23U"
      }
    },
    {
      "cell_type": "code",
      "source": [
        "## Utilizam datele din trei tabele\n",
        "## Populatia standard\n",
        "%%R\n",
        "str(pop.st)"
      ],
      "metadata": {
        "colab": {
          "base_uri": "https://localhost:8080/"
        },
        "id": "ecZ6d6hefPsH",
        "outputId": "dd037bc5-5e60-43c2-e2a4-33ea7f31eefd"
      },
      "execution_count": null,
      "outputs": [
        {
          "output_type": "stream",
          "name": "stdout",
          "text": [
            "'data.frame':\t19 obs. of  2 variables:\n",
            " $ Age: int  0 1 5 10 15 20 25 30 35 40 ...\n",
            " $ Pop: int  1000 4000 5500 5500 5500 6000 6000 6500 7000 7000 ...\n"
          ]
        }
      ]
    },
    {
      "cell_type": "code",
      "source": [
        "## datele privind populatia pe grupe cincinale\n",
        "%%R\n",
        "data.pop2<-data.pop2[data.pop2$Year!=2023,]\n",
        "str(data.pop2)"
      ],
      "metadata": {
        "colab": {
          "base_uri": "https://localhost:8080/"
        },
        "id": "D419z9n6tnsm",
        "outputId": "ab36f273-f985-4717-8994-cd3ca6a68267"
      },
      "execution_count": null,
      "outputs": [
        {
          "output_type": "stream",
          "name": "stdout",
          "text": [
            "'data.frame':\t342 obs. of  5 variables:\n",
            " $ Area      : chr  \"TOT\" \"TOT\" \"TOT\" \"TOT\" ...\n",
            " $ Year      : int  2014 2015 2016 2017 2018 2019 2020 2021 2022 2014 ...\n",
            " $ Age       : chr  \"0\" \"0\" \"0\" \"0\" ...\n",
            " $ Sex       : chr  \"Female\" \"Female\" \"Female\" \"Female\" ...\n",
            " $ Population: int  18494 19535 19423 19011 17327 16050 15013 14258 13347 72685 ...\n"
          ]
        }
      ]
    },
    {
      "cell_type": "code",
      "source": [
        "## transformam variabila 'Age' din tabelul 'data.pop2' din 'character' in 'integer'\n",
        "%%R\n",
        "data.pop2$Age<-as.integer(data.pop2$Age)"
      ],
      "metadata": {
        "id": "s5M0NuLhyuGG"
      },
      "execution_count": null,
      "outputs": []
    },
    {
      "cell_type": "code",
      "source": [
        "## datele privind decesele pe grupe cincinale\n",
        "%%R\n",
        "str(data.d2)"
      ],
      "metadata": {
        "colab": {
          "base_uri": "https://localhost:8080/"
        },
        "id": "jOwbfNdnuhVc",
        "outputId": "8d21c657-ae74-4219-b6d5-7228865c642f"
      },
      "execution_count": null,
      "outputs": [
        {
          "output_type": "stream",
          "name": "stdout",
          "text": [
            "'data.frame':\t342 obs. of  5 variables:\n",
            " $ Area  : chr  \"TOT\" \"TOT\" \"TOT\" \"TOT\" ...\n",
            " $ Year  : int  2014 2015 2016 2017 2018 2019 2020 2021 2022 2014 ...\n",
            " $ Age   : chr  \"0\" \"0\" \"0\" \"0\" ...\n",
            " $ Sex   : chr  \"Female\" \"Female\" \"Female\" \"Female\" ...\n",
            " $ Deaths: int  152 147 145 147 127 130 123 114 109 37 ...\n"
          ]
        }
      ]
    },
    {
      "cell_type": "code",
      "source": [
        "## transformam variabila 'Age' din tabelul 'data.d2' din 'character' in 'integer'\n",
        "%%R\n",
        "data.d2$Age<-as.integer(data.d2$Age)"
      ],
      "metadata": {
        "id": "By2heui6zIvQ"
      },
      "execution_count": null,
      "outputs": []
    },
    {
      "cell_type": "code",
      "source": [
        "## Instalam pachetul \"dplyr\"\n",
        "%%R\n",
        "install.packages('dplyr')\n",
        "library(dplyr)"
      ],
      "metadata": {
        "id": "nnaiXVAMuq9v",
        "colab": {
          "base_uri": "https://localhost:8080/"
        },
        "outputId": "ff2b90d0-65f7-415a-8e01-496a0204dc87"
      },
      "execution_count": null,
      "outputs": [
        {
          "output_type": "stream",
          "name": "stderr",
          "text": [
            "WARNING:rpy2.rinterface_lib.callbacks:R[write to console]: Installing package into ‘/usr/local/lib/R/site-library’\n",
            "(as ‘lib’ is unspecified)\n",
            "\n",
            "WARNING:rpy2.rinterface_lib.callbacks:R[write to console]: trying URL 'https://cran.rstudio.com/src/contrib/dplyr_1.1.3.tar.gz'\n",
            "\n",
            "WARNING:rpy2.rinterface_lib.callbacks:R[write to console]: Content type 'application/x-gzip'\n",
            "WARNING:rpy2.rinterface_lib.callbacks:R[write to console]:  length 1083635 bytes (1.0 MB)\n",
            "\n",
            "WARNING:rpy2.rinterface_lib.callbacks:R[write to console]: =\n",
            "WARNING:rpy2.rinterface_lib.callbacks:R[write to console]: =\n",
            "WARNING:rpy2.rinterface_lib.callbacks:R[write to console]: =\n",
            "WARNING:rpy2.rinterface_lib.callbacks:R[write to console]: =\n",
            "WARNING:rpy2.rinterface_lib.callbacks:R[write to console]: =\n",
            "WARNING:rpy2.rinterface_lib.callbacks:R[write to console]: =\n",
            "WARNING:rpy2.rinterface_lib.callbacks:R[write to console]: =\n",
            "WARNING:rpy2.rinterface_lib.callbacks:R[write to console]: =\n",
            "WARNING:rpy2.rinterface_lib.callbacks:R[write to console]: =\n",
            "WARNING:rpy2.rinterface_lib.callbacks:R[write to console]: =\n",
            "WARNING:rpy2.rinterface_lib.callbacks:R[write to console]: =\n",
            "WARNING:rpy2.rinterface_lib.callbacks:R[write to console]: =\n",
            "WARNING:rpy2.rinterface_lib.callbacks:R[write to console]: =\n",
            "WARNING:rpy2.rinterface_lib.callbacks:R[write to console]: =\n",
            "WARNING:rpy2.rinterface_lib.callbacks:R[write to console]: =\n",
            "WARNING:rpy2.rinterface_lib.callbacks:R[write to console]: =\n",
            "WARNING:rpy2.rinterface_lib.callbacks:R[write to console]: =\n",
            "WARNING:rpy2.rinterface_lib.callbacks:R[write to console]: =\n",
            "WARNING:rpy2.rinterface_lib.callbacks:R[write to console]: =\n",
            "WARNING:rpy2.rinterface_lib.callbacks:R[write to console]: =\n",
            "WARNING:rpy2.rinterface_lib.callbacks:R[write to console]: =\n",
            "WARNING:rpy2.rinterface_lib.callbacks:R[write to console]: =\n",
            "WARNING:rpy2.rinterface_lib.callbacks:R[write to console]: =\n",
            "WARNING:rpy2.rinterface_lib.callbacks:R[write to console]: =\n",
            "WARNING:rpy2.rinterface_lib.callbacks:R[write to console]: =\n",
            "WARNING:rpy2.rinterface_lib.callbacks:R[write to console]: =\n",
            "WARNING:rpy2.rinterface_lib.callbacks:R[write to console]: =\n",
            "WARNING:rpy2.rinterface_lib.callbacks:R[write to console]: =\n",
            "WARNING:rpy2.rinterface_lib.callbacks:R[write to console]: =\n",
            "WARNING:rpy2.rinterface_lib.callbacks:R[write to console]: =\n",
            "WARNING:rpy2.rinterface_lib.callbacks:R[write to console]: =\n",
            "WARNING:rpy2.rinterface_lib.callbacks:R[write to console]: =\n",
            "WARNING:rpy2.rinterface_lib.callbacks:R[write to console]: =\n",
            "WARNING:rpy2.rinterface_lib.callbacks:R[write to console]: =\n",
            "WARNING:rpy2.rinterface_lib.callbacks:R[write to console]: =\n",
            "WARNING:rpy2.rinterface_lib.callbacks:R[write to console]: =\n",
            "WARNING:rpy2.rinterface_lib.callbacks:R[write to console]: =\n",
            "WARNING:rpy2.rinterface_lib.callbacks:R[write to console]: =\n",
            "WARNING:rpy2.rinterface_lib.callbacks:R[write to console]: =\n",
            "WARNING:rpy2.rinterface_lib.callbacks:R[write to console]: =\n",
            "WARNING:rpy2.rinterface_lib.callbacks:R[write to console]: =\n",
            "WARNING:rpy2.rinterface_lib.callbacks:R[write to console]: =\n",
            "WARNING:rpy2.rinterface_lib.callbacks:R[write to console]: =\n",
            "WARNING:rpy2.rinterface_lib.callbacks:R[write to console]: =\n",
            "WARNING:rpy2.rinterface_lib.callbacks:R[write to console]: =\n",
            "WARNING:rpy2.rinterface_lib.callbacks:R[write to console]: =\n",
            "WARNING:rpy2.rinterface_lib.callbacks:R[write to console]: =\n",
            "WARNING:rpy2.rinterface_lib.callbacks:R[write to console]: =\n",
            "WARNING:rpy2.rinterface_lib.callbacks:R[write to console]: =\n",
            "WARNING:rpy2.rinterface_lib.callbacks:R[write to console]: =\n",
            "WARNING:rpy2.rinterface_lib.callbacks:R[write to console]: \n",
            "\n",
            "WARNING:rpy2.rinterface_lib.callbacks:R[write to console]: downloaded 1.0 MB\n",
            "\n",
            "\n",
            "WARNING:rpy2.rinterface_lib.callbacks:R[write to console]: \n",
            "\n",
            "WARNING:rpy2.rinterface_lib.callbacks:R[write to console]: \n",
            "WARNING:rpy2.rinterface_lib.callbacks:R[write to console]: The downloaded source packages are in\n",
            "\t‘/tmp/RtmpRaUTB3/downloaded_packages’\n",
            "WARNING:rpy2.rinterface_lib.callbacks:R[write to console]: \n",
            "WARNING:rpy2.rinterface_lib.callbacks:R[write to console]: \n",
            "\n",
            "WARNING:rpy2.rinterface_lib.callbacks:R[write to console]: \n",
            "Attaching package: ‘dplyr’\n",
            "\n",
            "\n",
            "WARNING:rpy2.rinterface_lib.callbacks:R[write to console]: The following objects are masked from ‘package:stats’:\n",
            "\n",
            "    filter, lag\n",
            "\n",
            "\n",
            "WARNING:rpy2.rinterface_lib.callbacks:R[write to console]: The following objects are masked from ‘package:base’:\n",
            "\n",
            "    intersect, setdiff, setequal, union\n",
            "\n",
            "\n"
          ]
        }
      ]
    },
    {
      "cell_type": "code",
      "source": [
        "## Unim doua tabele (data.pop2 si data.d2) intr-un table dupa an, varsta si sex (left_join)\n",
        "%%R\n",
        "my.data<-left_join(x=data.pop2, y=data.d2, by=c('Area', 'Year', 'Age', 'Sex'))\n",
        "head(my.data)"
      ],
      "metadata": {
        "colab": {
          "base_uri": "https://localhost:8080/"
        },
        "id": "6uAr7ZolvmoU",
        "outputId": "d684f555-12b9-456a-fc5a-5ef6bf4a07cb"
      },
      "execution_count": null,
      "outputs": [
        {
          "output_type": "stream",
          "name": "stdout",
          "text": [
            "  Area Year Age    Sex Population Deaths\n",
            "1  TOT 2014   0 Female      18494    152\n",
            "2  TOT 2015   0 Female      19535    147\n",
            "3  TOT 2016   0 Female      19423    145\n",
            "4  TOT 2017   0 Female      19011    147\n",
            "5  TOT 2018   0 Female      17327    127\n",
            "6  TOT 2019   0 Female      16050    130\n"
          ]
        }
      ]
    },
    {
      "cell_type": "code",
      "source": [
        "## Verificam structura tabelului creat\n",
        "%%R\n",
        "str(my.data)"
      ],
      "metadata": {
        "colab": {
          "base_uri": "https://localhost:8080/"
        },
        "id": "BSEmAaycw1Wc",
        "outputId": "1c398b2d-ec87-414e-dc44-9babd41abcf6"
      },
      "execution_count": null,
      "outputs": [
        {
          "output_type": "stream",
          "name": "stdout",
          "text": [
            "'data.frame':\t342 obs. of  6 variables:\n",
            " $ Area      : chr  \"TOT\" \"TOT\" \"TOT\" \"TOT\" ...\n",
            " $ Year      : int  2014 2015 2016 2017 2018 2019 2020 2021 2022 2014 ...\n",
            " $ Age       : int  0 0 0 0 0 0 0 0 0 1 ...\n",
            " $ Sex       : chr  \"Female\" \"Female\" \"Female\" \"Female\" ...\n",
            " $ Population: int  18494 19535 19423 19011 17327 16050 15013 14258 13347 72685 ...\n",
            " $ Deaths    : int  152 147 145 147 127 130 123 114 109 37 ...\n"
          ]
        }
      ]
    },
    {
      "cell_type": "code",
      "source": [
        "## Calculam ratele specifice de mortalitate pe varste si sexe (o noua variabila)\n",
        "%%R\n",
        "my.data$ASDR<-my.data$Deaths / my.data$Population\n",
        "head(my.data)"
      ],
      "metadata": {
        "colab": {
          "base_uri": "https://localhost:8080/"
        },
        "id": "PqSwverExUsd",
        "outputId": "a49fe6d7-0ec1-4cc8-c1e7-5758881e5f67"
      },
      "execution_count": null,
      "outputs": [
        {
          "output_type": "stream",
          "name": "stdout",
          "text": [
            "  Area Year Age    Sex Population Deaths        ASDR\n",
            "1  TOT 2014   0 Female      18494    152 0.008218882\n",
            "2  TOT 2015   0 Female      19535    147 0.007524955\n",
            "3  TOT 2016   0 Female      19423    145 0.007465376\n",
            "4  TOT 2017   0 Female      19011    147 0.007732365\n",
            "5  TOT 2018   0 Female      17327    127 0.007329601\n",
            "6  TOT 2019   0 Female      16050    130 0.008099688\n"
          ]
        }
      ]
    },
    {
      "cell_type": "code",
      "source": [
        "## Unim tabelul 'my.table' cu 'pop.st' pe varste\n",
        "%%R\n",
        "my.data1<-left_join(x=my.data, y=pop.st, by='Age')\n",
        "head(my.data1,15)"
      ],
      "metadata": {
        "colab": {
          "base_uri": "https://localhost:8080/"
        },
        "id": "MRLCoE0ex_F4",
        "outputId": "0416de7a-09e2-477a-92e4-a7f1ab5095ae"
      },
      "execution_count": null,
      "outputs": [
        {
          "output_type": "stream",
          "name": "stdout",
          "text": [
            "   Area Year Age    Sex Population Deaths         ASDR  Pop\n",
            "1   TOT 2014   0 Female      18494    152 0.0082188818 1000\n",
            "2   TOT 2015   0 Female      19535    147 0.0075249552 1000\n",
            "3   TOT 2016   0 Female      19423    145 0.0074653761 1000\n",
            "4   TOT 2017   0 Female      19011    147 0.0077323655 1000\n",
            "5   TOT 2018   0 Female      17327    127 0.0073296012 1000\n",
            "6   TOT 2019   0 Female      16050    130 0.0080996885 1000\n",
            "7   TOT 2020   0 Female      15013    123 0.0081928995 1000\n",
            "8   TOT 2021   0 Female      14258    114 0.0079955113 1000\n",
            "9   TOT 2022   0 Female      13347    109 0.0081666292 1000\n",
            "10  TOT 2014   1 Female      72685     37 0.0005090459 4000\n",
            "11  TOT 2015   1 Female      71452     23 0.0003218944 4000\n",
            "12  TOT 2016   1 Female      71907     40 0.0005562741 4000\n",
            "13  TOT 2017   1 Female      72647     29 0.0003991906 4000\n",
            "14  TOT 2018   1 Female      72804     28 0.0003845943 4000\n",
            "15  TOT 2019   1 Female      70460     19 0.0002696565 4000\n"
          ]
        }
      ]
    },
    {
      "cell_type": "code",
      "source": [
        "## Calculam numarul asteptat de decese pe varste si sexe\n",
        "%%R\n",
        "my.data1$Expected_d<-my.data1$ASDR * my.data1$Pop\n",
        "head(my.data1)"
      ],
      "metadata": {
        "colab": {
          "base_uri": "https://localhost:8080/"
        },
        "id": "mzBBoZy0zw-b",
        "outputId": "10a31247-4c18-4761-966e-16e5953d7686"
      },
      "execution_count": null,
      "outputs": [
        {
          "output_type": "stream",
          "name": "stdout",
          "text": [
            "  Area Year Age    Sex Population Deaths        ASDR  Pop Expected_d\n",
            "1  TOT 2014   0 Female      18494    152 0.008218882 1000   8.218882\n",
            "2  TOT 2015   0 Female      19535    147 0.007524955 1000   7.524955\n",
            "3  TOT 2016   0 Female      19423    145 0.007465376 1000   7.465376\n",
            "4  TOT 2017   0 Female      19011    147 0.007732365 1000   7.732365\n",
            "5  TOT 2018   0 Female      17327    127 0.007329601 1000   7.329601\n",
            "6  TOT 2019   0 Female      16050    130 0.008099688 1000   8.099688\n"
          ]
        }
      ]
    },
    {
      "cell_type": "code",
      "source": [
        "## Adunam decesele asteptate pe varste (= ratele standardizate ale mortalitatii, SMR)\n",
        "%%R\n",
        "my.data2<-aggregate(list('Deaths'=my.data1$Deaths, 'Population'=my.data1$Population, 'SDR' = my.data1$Expected_d),\n",
        "                    by=list('Area'=my.data1$Area, 'Year'=my.data1$Year, 'Sex'=my.data1$Sex), sum)\n",
        "head(my.data2,20)"
      ],
      "metadata": {
        "colab": {
          "base_uri": "https://localhost:8080/"
        },
        "id": "v-Xu-IQn19Uz",
        "outputId": "2cd37b05-7d8b-4743-a027-027912cdbefd"
      },
      "execution_count": null,
      "outputs": [
        {
          "output_type": "stream",
          "name": "stdout",
          "text": [
            "   Area Year    Sex Deaths Population      SDR\n",
            "1   TOT 2014 Female  18841    1493516 1826.665\n",
            "2   TOT 2015 Female  18873    1477980 1833.204\n",
            "3   TOT 2016 Female  18072    1465618 1747.730\n",
            "4   TOT 2017 Female  17533    1446229 1734.686\n",
            "5   TOT 2018 Female  17487    1424739 1713.617\n",
            "6   TOT 2019 Female  17106    1402708 1679.238\n",
            "7   TOT 2020 Female  19264    1381477 1867.559\n",
            "8   TOT 2021 Female  22022    1373422 2131.183\n",
            "9   TOT 2022 Female  16868    1346864 1700.092\n",
            "10  TOT 2014   Male  20646    1375786 2739.528\n",
            "11  TOT 2015   Male  20891    1368347 2740.398\n",
            "12  TOT 2016   Male  20316    1360010 2679.044\n",
            "13  TOT 2017   Male  19234    1334515 2572.904\n",
            "14  TOT 2018   Male  19756    1304895 2623.620\n",
            "15  TOT 2019   Male  19284    1282064 2569.433\n",
            "16  TOT 2020   Male  21432    1262198 2859.610\n",
            "17  TOT 2021   Male  23421    1253166 3189.788\n",
            "18  TOT 2022   Male  19265    1218166 2678.575\n"
          ]
        }
      ]
    },
    {
      "cell_type": "code",
      "source": [
        "## Calculam rata cruda a mortalitatii, CDR\n",
        "%%R\n",
        "my.data2$CDR<-my.data2$Deaths / my.data2$Population * 100000\n",
        "head(my.data2)"
      ],
      "metadata": {
        "colab": {
          "base_uri": "https://localhost:8080/"
        },
        "id": "ggzAJM4P5Duo",
        "outputId": "c96d00d2-0406-4416-ff53-88138ae457dc"
      },
      "execution_count": null,
      "outputs": [
        {
          "output_type": "stream",
          "name": "stdout",
          "text": [
            "  Area Year    Sex Deaths Population      SDR      CDR\n",
            "1  TOT 2014 Female  18841    1493516 1826.665 1261.520\n",
            "2  TOT 2015 Female  18873    1477980 1833.204 1276.946\n",
            "3  TOT 2016 Female  18072    1465618 1747.730 1233.063\n",
            "4  TOT 2017 Female  17533    1446229 1734.686 1212.325\n",
            "5  TOT 2018 Female  17487    1424739 1713.617 1227.383\n",
            "6  TOT 2019 Female  17106    1402708 1679.238 1219.498\n"
          ]
        }
      ]
    },
    {
      "cell_type": "code",
      "source": [
        "## Omitem coloanele inutile din tabelul 'my.data2'\n",
        "%%R\n",
        "my.data2<-my.data2[,-c(4,5)]\n",
        "head(my.data2)"
      ],
      "metadata": {
        "colab": {
          "base_uri": "https://localhost:8080/"
        },
        "id": "1WCoF6cg5dL3",
        "outputId": "92f4f751-26df-411b-e077-dd74cc725088"
      },
      "execution_count": null,
      "outputs": [
        {
          "output_type": "stream",
          "name": "stdout",
          "text": [
            "  Area Year    Sex      SDR      CDR\n",
            "1  TOT 2014 Female 1826.665 1261.520\n",
            "2  TOT 2015 Female 1833.204 1276.946\n",
            "3  TOT 2016 Female 1747.730 1233.063\n",
            "4  TOT 2017 Female 1734.686 1212.325\n",
            "5  TOT 2018 Female 1713.617 1227.383\n",
            "6  TOT 2019 Female 1679.238 1219.498\n"
          ]
        }
      ]
    },
    {
      "cell_type": "code",
      "source": [
        "## Salvam rezultatele sub forma de tabel .csv in mapa 'Output'\n",
        "%%R\n",
        "write.table(my.data2, \"/content/Output/SDR.csv\", sep=',', quote=FALSE,\n",
        "            append=FALSE, na='NA', row.names=FALSE, col.names=TRUE)"
      ],
      "metadata": {
        "id": "NBd0rwiherjD"
      },
      "execution_count": null,
      "outputs": []
    },
    {
      "cell_type": "markdown",
      "source": [
        "# ***A.7 Prezentarea grafica a rezultatelor in R:***"
      ],
      "metadata": {
        "id": "K2-6F-5k62l9"
      }
    },
    {
      "cell_type": "code",
      "source": [
        "## transformam tabelul 'my.data2' din formatul 'long' in formatul 'larg'\n",
        "%%R\n",
        "my.data3<-gather(my.data2, key='Indicator', value='Value', SMR:CDR)\n",
        "head(my.data3)"
      ],
      "metadata": {
        "colab": {
          "base_uri": "https://localhost:8080/"
        },
        "id": "GNsP9VZp_Van",
        "outputId": "a1704c76-072d-445e-d0bb-442a51c09243"
      },
      "execution_count": null,
      "outputs": [
        {
          "output_type": "stream",
          "name": "stdout",
          "text": [
            "  Area Year    Sex Indicator    Value\n",
            "1  TOT 2014 Female       SMR 1826.665\n",
            "2  TOT 2015 Female       SMR 1833.204\n",
            "3  TOT 2016 Female       SMR 1747.730\n",
            "4  TOT 2017 Female       SMR 1734.686\n",
            "5  TOT 2018 Female       SMR 1713.617\n",
            "6  TOT 2019 Female       SMR 1679.238\n"
          ]
        }
      ]
    },
    {
      "cell_type": "code",
      "source": [
        "## Instalam pachetul 'ggplot2' pentru prezentarea graphica\n",
        "%%R\n",
        "install.packages('ggplot2')\n",
        "library(ggplot2)"
      ],
      "metadata": {
        "id": "ZZJQi4l-7GlI"
      },
      "execution_count": null,
      "outputs": []
    },
    {
      "cell_type": "code",
      "source": [
        "## Cream un plot in 'ggplot2': ratele standardizate ale mortalitatii vs\n",
        "## ratele crude ale mortalitatii pe sexe in RM, 2014-2022\n",
        "%%R\n",
        "ggplot(data = my.data3, aes(x=Year, y=Value, color=Indicator, shape=Indicator)) +\n",
        " geom_line()+\n",
        " geom_point()+\n",
        " facet_grid(.~Sex)+\n",
        "scale_y_continuous(name='Rate per 100,000')+\n",
        "scale_x_continuous(name='')+\n",
        "ggtitle('Crude vs Standardized death rate in RM by sex, in 2014-2022')+\n",
        "\n",
        "theme(legend.position = 'bottom',\n",
        "      legend.title = element_blank())"
      ],
      "metadata": {
        "colab": {
          "base_uri": "https://localhost:8080/",
          "height": 497
        },
        "id": "TAbDS4n77crz",
        "outputId": "57a2d7d0-ef50-4c53-c299-152484441ace"
      },
      "execution_count": null,
      "outputs": [
        {
          "output_type": "display_data",
          "data": {
            "image/png": "[encoded data removed]"
          },
          "metadata": {}
        }
      ]
    },
    {
      "cell_type": "code",
      "source": [
        "## Salvam figura i mapa 'Output' as .png file\n",
        "## Cream un plot in 'ggplot2': ratele standardizate ale mortalitatii vs\n",
        "## ratele crude ale mortalitatii pe sexe in RM, 2014-2022\n",
        "%%R\n",
        "g<-ggplot(data = my.data3, aes(x=Year, y=Value, color=Indicator, shape=Indicator)) +\n",
        " geom_line()+\n",
        " geom_point()+\n",
        " facet_grid(.~Sex)+\n",
        "ggtitle('Crude vs Standardized death rate in RM by sex, in 2014-2022')+\n",
        "xlab('')+\n",
        "ylab('Rate per 100,000')+\n",
        "\n",
        "theme(legend.position = 'bottom',\n",
        "      legend.title = element_blank())\n",
        "\n",
        "ggsave(file='/content/Output/Figure1.png', g, width=10, height=5, dpi = 400)"
      ],
      "metadata": {
        "id": "Ea0lUzL-epg0"
      },
      "execution_count": null,
      "outputs": []
    },
    {
      "cell_type": "markdown",
      "source": [
        "# ***A.8 Prezentarea grafica a datelor (lucrul individual)***"
      ],
      "metadata": {
        "id": "zm2hDmGbpmZe"
      }
    },
    {
      "cell_type": "code",
      "source": [
        "## Din tabelul 'my.data3' selectati datele pentru barbati si creati graphicul in 'ggplot2'\n",
        "%%R\n",
        "ggplot(data = my.data3[my.data3$Sex=='Male',], aes(x=Year, y=Value, color=Indicator, shape=Indicator)) +\n",
        " geom_line()+\n",
        " geom_point()+\n",
        "ggtitle('Crude vs Standardized death rate among males in RM, in 2014-2022')+\n",
        "xlab('')+\n",
        "ylab('Rate per 100,000')+\n",
        "theme(legend.position = 'bottom',\n",
        "      legend.title = element_blank())"
      ],
      "metadata": {
        "colab": {
          "base_uri": "https://localhost:8080/",
          "height": 497
        },
        "id": "z0-e7X0fpkxv",
        "outputId": "4284ba74-7885-4ce6-af05-d9f521d8f9bf"
      },
      "execution_count": null,
      "outputs": [
        {
          "output_type": "display_data",
          "data": {
            "image/png": "[encoded data removed]"
          },
          "metadata": {}
        }
      ]
    }
  ]
}