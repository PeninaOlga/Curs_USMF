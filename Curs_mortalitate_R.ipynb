{
  "nbformat": 4,
  "nbformat_minor": 0,
  "metadata": {
    "colab": {
      "provenance": []
    },
    "kernelspec": {
      "name": "python3",
      "display_name": "Python 3"
    },
    "language_info": {
      "name": "python"
    }
  },
  "cells": [
    {
      "cell_type": "markdown",
      "source": [
        "# **Conferinta stiintifica anuala \"Cercetarea in Biomedicina si Sanatate: Calitate, Excelenta si Performanta\"**\n",
        "\n",
        "# Curs educational Aspectele metodologice ale analizei mortalitatii in \"R\"\n",
        "---\n",
        "\n",
        "\n",
        "> Olga Penina, Catedra de medicina sociala si management \"Nicolae Testemitanu\"\n",
        "olga.penina@usmf.md\n"
      ],
      "metadata": {
        "id": "WJttiw39o1Ko"
      }
    },
    {
      "cell_type": "markdown",
      "source": [
        "\n",
        "\n",
        "## **A. Calcularea ratelor standardizate ale mortalitatii prin metoda directa pentru RM in 2014-2022**\n",
        "\n",
        "---\n",
        "\n"
      ],
      "metadata": {
        "id": "XeJdzX75FCnd"
      }
    },
    {
      "cell_type": "markdown",
      "source": [
        "Datele necesare:\n",
        "1. Numarul de decese pe sexe si varste pentru anii 2014-2022\n",
        "2. Numarul populatiei pe sexe si varste pentru anii 2014-2022\n",
        "3. Populatia standard (standardul European, 2013)\n",
        "\n",
        "Sursa (1-2): Banca de date BNS, https://statistica.gov.md/ro\n",
        "\n",
        "Sursa (3): https://ec.europa.eu/eurostat/web/products-manuals-and-guidelines/-/ks-ra-13-028"
      ],
      "metadata": {
        "id": "YY3OT_YYFqaX"
      }
    },
    {
      "cell_type": "markdown",
      "source": [
        "# ***A.1 Descarcarea datelor de pe GitHub. Utilizarea liniei de comanda***\n",
        "\n",
        "https://github.com/PeninaOlga/Curs_USMF"
      ],
      "metadata": {
        "id": "hZowYe3AxE-O"
      }
    },
    {
      "cell_type": "code",
      "source": [
        "## Verificam care este directorul nostru curent (calea curenta in sistemul de fisiere, unde ne aflam) pe Google Drive\n",
        "## Utilizam linia de comanda, pwd (print working directory)\n",
        "%%bash\n",
        "pwd"
      ],
      "metadata": {
        "colab": {
          "base_uri": "https://localhost:8080/"
        },
        "id": "9FfGdJ8vlM1z",
        "outputId": "0dfb733c-fadc-4dc3-e010-60e1d7ff8a5e"
      },
      "execution_count": 2,
      "outputs": [
        {
          "output_type": "stream",
          "name": "stdout",
          "text": [
            "/content\n"
          ]
        }
      ]
    },
    {
      "cell_type": "code",
      "source": [
        "## Cream un nou fisier \"Data\" in directorul curent (mkdir) si verificam ce se afla in directorul curent (ls)\n",
        "%%bash\n",
        "pwd\n",
        "mkdir Data\n",
        "ls\n"
      ],
      "metadata": {
        "colab": {
          "base_uri": "https://localhost:8080/"
        },
        "id": "U5Nl5sbaolxC",
        "outputId": "7fedf0d2-7057-4690-ac5a-1982aacb412e"
      },
      "execution_count": 3,
      "outputs": [
        {
          "output_type": "stream",
          "name": "stdout",
          "text": [
            "/content\n",
            "Data\n",
            "sample_data\n"
          ]
        }
      ]
    },
    {
      "cell_type": "code",
      "source": [
        "## Schimbam directoru (cd, change directory)\n",
        "%%bash\n",
        "cd /content/Data\n",
        "pwd"
      ],
      "metadata": {
        "colab": {
          "base_uri": "https://localhost:8080/"
        },
        "id": "iUvbfDyTqj7H",
        "outputId": "f88f0ecd-a2a0-42f5-f3b3-0cb5c6ee35fe"
      },
      "execution_count": 4,
      "outputs": [
        {
          "output_type": "stream",
          "name": "stdout",
          "text": [
            "/content/Data\n"
          ]
        }
      ]
    },
    {
      "cell_type": "code",
      "execution_count": 9,
      "metadata": {
        "id": "dajScctnoqK2",
        "colab": {
          "base_uri": "https://localhost:8080/"
        },
        "outputId": "f956ce66-5233-4ed4-efae-9aed868f1425"
      },
      "outputs": [
        {
          "output_type": "stream",
          "name": "stderr",
          "text": [
            "--2023-10-17 19:04:50--  https://raw.githubusercontent.com/PeninaOlga/Curs_USMF/main/pop_1x1.csv\n",
            "Resolving raw.githubusercontent.com (raw.githubusercontent.com)... 185.199.108.133, 185.199.109.133, 185.199.110.133, ...\n",
            "Connecting to raw.githubusercontent.com (raw.githubusercontent.com)|185.199.108.133|:443... connected.\n",
            "HTTP request sent, awaiting response... 200 OK\n",
            "Length: 21441 (21K) [text/plain]\n",
            "Saving to: ‘pop_1x1.csv’\n",
            "\n",
            "     0K .......... ..........                                 100% 26.0M=0.001s\n",
            "\n",
            "2023-10-17 19:04:50 (26.0 MB/s) - ‘pop_1x1.csv’ saved [21441/21441]\n",
            "\n"
          ]
        }
      ],
      "source": [
        "## Descarcam datele privind numarul de decese pe sexe si varste in RM, 2014-2023 in format .csv aflate pe GitHub\n",
        "%%bash\n",
        "cd /content/Data/\n",
        "wget https://raw.githubusercontent.com/PeninaOlga/Curs_USMF/main/pop_1x1.csv"
      ]
    },
    {
      "cell_type": "code",
      "source": [
        "## Descarcam datele privind numarul de populatie pe sexe si varste in RM, 2014-2023 in format .csv aflate pe GitHub\n",
        "%%bash\n",
        "cd /content/Data/\n",
        "wget https://raw.githubusercontent.com/raspberrypi/linux/rpi-4.9.y/arch/arm/configs/bcmrpi_defconfig"
      ],
      "metadata": {
        "id": "qIjrQse9FBbN",
        "colab": {
          "base_uri": "https://localhost:8080/"
        },
        "outputId": "a6e51d96-defd-4922-edf5-0f571a10ac5c"
      },
      "execution_count": 27,
      "outputs": [
        {
          "output_type": "stream",
          "name": "stderr",
          "text": [
            "--2023-10-17 18:55:07--  https://raw.githubusercontent.com/raspberrypi/linux/rpi-4.9.y/arch/arm/configs/bcmrpi_defconfig\n",
            "Resolving raw.githubusercontent.com (raw.githubusercontent.com)... 185.199.108.133, 185.199.109.133, 185.199.110.133, ...\n",
            "Connecting to raw.githubusercontent.com (raw.githubusercontent.com)|185.199.108.133|:443... connected.\n",
            "HTTP request sent, awaiting response... 200 OK\n",
            "Length: 32525 (32K) [text/plain]\n",
            "Saving to: ‘bcmrpi_defconfig’\n",
            "\n",
            "     0K .......... .......... .......... .                    100% 4.03M=0.008s\n",
            "\n",
            "2023-10-17 18:55:08 (4.03 MB/s) - ‘bcmrpi_defconfig’ saved [32525/32525]\n",
            "\n"
          ]
        }
      ]
    },
    {
      "cell_type": "code",
      "source": [
        "## Descarcam datele privind populatia standard (European Standard Population, 2013)\n",
        "%%bash\n",
        "cd /content/Data\n",
        "wget https://raw.githubusercontent.com/PeninaOlga/Curs_USMF/main/PopStandard.csv"
      ],
      "metadata": {
        "colab": {
          "base_uri": "https://localhost:8080/"
        },
        "id": "yoPH2yfxwpzT",
        "outputId": "0f7aff93-ec60-4339-9b31-f4a75d67f7af"
      },
      "execution_count": 121,
      "outputs": [
        {
          "output_type": "stream",
          "name": "stderr",
          "text": [
            "--2023-10-17 22:18:07--  https://raw.githubusercontent.com/PeninaOlga/Curs_USMF/main/PopStandard.csv\n",
            "Resolving raw.githubusercontent.com (raw.githubusercontent.com)... 185.199.108.133, 185.199.109.133, 185.199.110.133, ...\n",
            "Connecting to raw.githubusercontent.com (raw.githubusercontent.com)|185.199.108.133|:443... connected.\n",
            "HTTP request sent, awaiting response... 200 OK\n",
            "Length: 177 [text/plain]\n",
            "Saving to: ‘PopStandard.csv’\n",
            "\n",
            "     0K                                                       100% 14.9M=0s\n",
            "\n",
            "2023-10-17 22:18:07 (14.9 MB/s) - ‘PopStandard.csv’ saved [177/177]\n",
            "\n"
          ]
        }
      ]
    },
    {
      "cell_type": "code",
      "source": [
        "## Verificam continutul fisierului \"Data\"\n",
        "%%bash\n",
        "cd /content/Data/\n",
        "ls\n"
      ],
      "metadata": {
        "colab": {
          "base_uri": "https://localhost:8080/"
        },
        "id": "aXYI-4kQwRSl",
        "outputId": "27ba4577-797d-4182-a615-9ccf27392086"
      },
      "execution_count": 10,
      "outputs": [
        {
          "output_type": "stream",
          "name": "stdout",
          "text": [
            "d_1x1.csv\n",
            "pop_1x1.csv\n",
            "PopStandard.csv\n"
          ]
        }
      ]
    },
    {
      "cell_type": "markdown",
      "source": [
        "# ***A.2 Niste exemple in R***"
      ],
      "metadata": {
        "id": "GgudW4Cv2aaP"
      }
    },
    {
      "cell_type": "code",
      "source": [
        "## Incepem sa lucram in R\n",
        "%load_ext rpy2.ipython"
      ],
      "metadata": {
        "id": "m5KgA8sf2rvH"
      },
      "execution_count": 11,
      "outputs": []
    },
    {
      "cell_type": "code",
      "source": [
        "## niste exemple in R: am creat o variabila X si i-am atribuit o valoare de '1'\n",
        "%%R\n",
        "x<-1\n",
        "y<-2\n",
        "z<-x+y\n",
        "print(z)"
      ],
      "metadata": {
        "colab": {
          "base_uri": "https://localhost:8080/"
        },
        "id": "u1IgzQrgkJWN",
        "outputId": "e0de97ba-c957-4084-aa65-2176aa85a0f4"
      },
      "execution_count": 93,
      "outputs": [
        {
          "output_type": "stream",
          "name": "stdout",
          "text": [
            "[1] 3\n"
          ]
        }
      ]
    },
    {
      "cell_type": "code",
      "source": [
        "## niste exemple in R: am creat un vector 'var' si ..\n",
        "%%R\n",
        "var<-c(1,2,3,4,5)\n",
        "var"
      ],
      "metadata": {
        "colab": {
          "base_uri": "https://localhost:8080/"
        },
        "id": "SYVZsnLxkdIV",
        "outputId": "a31c860c-9b54-4ae0-a6c4-28cc77f2daa8"
      },
      "execution_count": 94,
      "outputs": [
        {
          "output_type": "stream",
          "name": "stdout",
          "text": [
            "[1] 1 2 3 4 5\n"
          ]
        }
      ]
    },
    {
      "cell_type": "code",
      "source": [
        "## niste exemple in R: .. si am adaugat 1 pentru fiecare valoare din vector\n",
        "%%R\n",
        "var+1"
      ],
      "metadata": {
        "colab": {
          "base_uri": "https://localhost:8080/"
        },
        "id": "eiswCBlNkv1w",
        "outputId": "d658d698-a8ec-45df-ad0b-eb472d95302b"
      },
      "execution_count": 97,
      "outputs": [
        {
          "output_type": "stream",
          "name": "stdout",
          "text": [
            "[1] 2 3 4 5 6\n"
          ]
        }
      ]
    },
    {
      "cell_type": "code",
      "source": [
        "## niste exemple in R: am creat o matrice (3x3) si ..\n",
        "%%R\n",
        "my.matrix<-matrix(1:9, nrow=3, ncol=3)\n",
        "my.matrix"
      ],
      "metadata": {
        "colab": {
          "base_uri": "https://localhost:8080/"
        },
        "id": "qTvxpO4ZlIOF",
        "outputId": "19995e2e-0a05-41b0-e2c6-6cf56e973b41"
      },
      "execution_count": 107,
      "outputs": [
        {
          "output_type": "stream",
          "name": "stdout",
          "text": [
            "     [,1] [,2] [,3]\n",
            "[1,]    1    4    7\n",
            "[2,]    2    5    8\n",
            "[3,]    3    6    9\n"
          ]
        }
      ]
    },
    {
      "cell_type": "code",
      "source": [
        "## .. si am transformat-o in 'data frame'\n",
        "%%R\n",
        "my.table<-as.data.frame(my.matrix)\n",
        "my.table"
      ],
      "metadata": {
        "colab": {
          "base_uri": "https://localhost:8080/"
        },
        "id": "tpnomQ6WmrIA",
        "outputId": "2c388222-db6a-4d9d-9d0a-6a4ef1fd199c"
      },
      "execution_count": 108,
      "outputs": [
        {
          "output_type": "stream",
          "name": "stdout",
          "text": [
            "  V1 V2 V3\n",
            "1  1  4  7\n",
            "2  2  5  8\n",
            "3  3  6  9\n"
          ]
        }
      ]
    },
    {
      "cell_type": "code",
      "source": [
        "## am extras valorile pentru variabila 'V2' din 'my.table'\n",
        "%%R\n",
        "my.table$V2"
      ],
      "metadata": {
        "colab": {
          "base_uri": "https://localhost:8080/"
        },
        "id": "fmAu07t6oSzi",
        "outputId": "52fc7c8d-bba6-43b5-f626-fa779281824b"
      },
      "execution_count": 112,
      "outputs": [
        {
          "output_type": "stream",
          "name": "stdout",
          "text": [
            "[1] 4 5 6\n"
          ]
        }
      ]
    },
    {
      "cell_type": "code",
      "source": [
        "## am extras o valoare din 'my.table' (randul = 2, coloana = 3)\n",
        "%%R\n",
        "my.table[2,3]"
      ],
      "metadata": {
        "colab": {
          "base_uri": "https://localhost:8080/"
        },
        "id": "ASY_OSqhokZC",
        "outputId": "97af2c4f-7807-4b01-832d-8f40f934f279"
      },
      "execution_count": 113,
      "outputs": [
        {
          "output_type": "stream",
          "name": "stdout",
          "text": [
            "[1] 8\n"
          ]
        }
      ]
    },
    {
      "cell_type": "markdown",
      "source": [
        "# ***A.3 Descarcarea datelor in R***"
      ],
      "metadata": {
        "id": "G5yFmAuupPUO"
      }
    },
    {
      "cell_type": "code",
      "source": [
        "## Cream tabelul 'data.pop' (read.csv) si vedem structura (str) tabelului in R\n",
        "%%R\n",
        "data.pop<-read.csv(file='/content/Data/pop_1x1.csv', header = TRUE, sep=\",\", stringsAsFactors=FALSE)\n",
        "str(data.pop)"
      ],
      "metadata": {
        "colab": {
          "base_uri": "https://localhost:8080/"
        },
        "id": "hxoN1ah03mTI",
        "outputId": "c1dffaab-adfd-4f32-92c7-1a22f39d19b7"
      },
      "execution_count": 16,
      "outputs": [
        {
          "output_type": "stream",
          "name": "stdout",
          "text": [
            "'data.frame':\t870 obs. of  5 variables:\n",
            " $ Area  : chr  \"TOT\" \"TOT\" \"TOT\" \"TOT\" ...\n",
            " $ Year  : int  2014 2014 2014 2014 2014 2014 2014 2014 2014 2014 ...\n",
            " $ Age   : int  999 0 1 2 3 4 5 6 7 8 ...\n",
            " $ Male  : int  1375786 19484 19349 18597 19348 19590 18262 18149 17203 16699 ...\n",
            " $ Female: int  1493516 18494 18304 17713 18396 18272 17592 17034 16060 15968 ...\n"
          ]
        }
      ]
    },
    {
      "cell_type": "code",
      "source": [
        "## Cream tabelul 'data.d' (read.csv) si vedem structura (str) tabelului in R\n",
        "%%R\n",
        "data.d<-read.csv(file='/content/Data/d_1x1.csv', header = TRUE, sep=\",\", stringsAsFactors=FALSE)\n",
        "str(data.d)"
      ],
      "metadata": {
        "colab": {
          "base_uri": "https://localhost:8080/"
        },
        "id": "nPvWGLUXDZzi",
        "outputId": "93ac7714-6936-4dd6-f728-f9151184dfb3"
      },
      "execution_count": 18,
      "outputs": [
        {
          "output_type": "stream",
          "name": "stdout",
          "text": [
            "'data.frame':\t918 obs. of  5 variables:\n",
            " $ Area  : chr  \"TOT\" \"TOT\" \"TOT\" \"TOT\" ...\n",
            " $ Age   : int  999 0 1 2 3 4 5 6 7 8 ...\n",
            " $ Year  : int  2014 2014 2014 2014 2014 2014 2014 2014 2014 2014 ...\n",
            " $ Male  : int  20672 220 21 13 7 3 2 5 5 4 ...\n",
            " $ Female: int  18850 152 14 9 8 6 4 2 1 2 ...\n"
          ]
        }
      ]
    },
    {
      "cell_type": "code",
      "source": [
        "## Cream tabelul 'pop.st' (read.csv) si vedem structura (str) tabelului in R\n",
        "%%R\n",
        "pop.st<-read.csv(file='/content/Data/PopStandard.csv', header = TRUE, sep=\",\", stringsAsFactors=FALSE)\n",
        "str(pop.st)"
      ],
      "metadata": {
        "colab": {
          "base_uri": "https://localhost:8080/"
        },
        "id": "M22JnD37Dm88",
        "outputId": "b8e08e74-4a29-404d-c618-44efe4b44663"
      },
      "execution_count": 122,
      "outputs": [
        {
          "output_type": "stream",
          "name": "stdout",
          "text": [
            "'data.frame':\t19 obs. of  2 variables:\n",
            " $ Age: int  0 1 5 10 15 20 25 30 35 40 ...\n",
            " $ Pop: int  1000 4000 5500 5500 5500 6000 6000 6500 7000 7000 ...\n"
          ]
        }
      ]
    },
    {
      "cell_type": "markdown",
      "source": [
        "# ***A.4 Prelucrarea preliminara a datelor privind populatia in R***"
      ],
      "metadata": {
        "id": "Bo9B2-JbaRoa"
      }
    },
    {
      "cell_type": "code",
      "source": [
        "## Vizualizam primele cinci randuri in tabelul 'data.pop' (head)\n",
        "%%R\n",
        "head(data.pop, 5)"
      ],
      "metadata": {
        "colab": {
          "base_uri": "https://localhost:8080/"
        },
        "id": "OxZThhWLCmH7",
        "outputId": "fa69f8af-5886-4cde-c764-862f1f62903a"
      },
      "execution_count": 20,
      "outputs": [
        {
          "output_type": "stream",
          "name": "stdout",
          "text": [
            "  Area Year Age    Male  Female\n",
            "1  TOT 2014 999 1375786 1493516\n",
            "2  TOT 2014   0   19484   18494\n",
            "3  TOT 2014   1   19349   18304\n",
            "4  TOT 2014   2   18597   17713\n",
            "5  TOT 2014   3   19348   18396\n"
          ]
        }
      ]
    },
    {
      "cell_type": "code",
      "source": [
        "## Care sunt valorile unice pentru variabila \"Year\" (An)\n",
        "%%R\n",
        "unique(data.pop$Year)"
      ],
      "metadata": {
        "colab": {
          "base_uri": "https://localhost:8080/"
        },
        "id": "2Pvtu7RwD9GN",
        "outputId": "72e03527-124e-4278-c425-352e1913f743"
      },
      "execution_count": 23,
      "outputs": [
        {
          "output_type": "stream",
          "name": "stdout",
          "text": [
            " [1] 2014 2015 2016 2017 2018 2019 2020 2021 2022 2023\n"
          ]
        }
      ]
    },
    {
      "cell_type": "code",
      "source": [
        "## Instalam pachetul 'tidyr' (install.packages) si il activam (library). Instalarea si activarea se face o singura data\n",
        "%%R\n",
        "install.packages('tidyr')\n",
        "library(tidyr)"
      ],
      "metadata": {
        "id": "AeuUx8rL4hOG"
      },
      "execution_count": null,
      "outputs": []
    },
    {
      "cell_type": "code",
      "source": [
        "## transformam formatul tabelului 'data.pop' din 'lung' in 'larg'\n",
        "%%R\n",
        "data.pop1<-gather(data.pop, key=\"Sex\", value=\"Population\", Male:Female)\n",
        "head(data.pop1)"
      ],
      "metadata": {
        "colab": {
          "base_uri": "https://localhost:8080/"
        },
        "id": "PE_Y7EvcIQ9y",
        "outputId": "7968740d-40fd-4d11-f769-25ffe6d20ab3"
      },
      "execution_count": 54,
      "outputs": [
        {
          "output_type": "stream",
          "name": "stdout",
          "text": [
            "  Area Year Age  Sex Population\n",
            "1  TOT 2014 999 Male    1375786\n",
            "2  TOT 2014   0 Male      19484\n",
            "3  TOT 2014   1 Male      19349\n",
            "4  TOT 2014   2 Male      18597\n",
            "5  TOT 2014   3 Male      19348\n",
            "6  TOT 2014   4 Male      19590\n"
          ]
        }
      ]
    },
    {
      "cell_type": "code",
      "source": [
        "## Grupe de varsta in 'data.pop1'\n",
        "%%R\n",
        "unique(data.pop1$Age)"
      ],
      "metadata": {
        "colab": {
          "base_uri": "https://localhost:8080/"
        },
        "id": "2IfzDmB9U2VS",
        "outputId": "6716a275-58bb-4f94-a72b-8bd60a946a3d"
      },
      "execution_count": 57,
      "outputs": [
        {
          "output_type": "stream",
          "name": "stdout",
          "text": [
            " [1]  0  1  2  3  4  5  6  7  8  9 10 11 12 13 14 15 16 17 18 19 20 21 22 23 24\n",
            "[26] 25 26 27 28 29 30 31 32 33 34 35 36 37 38 39 40 41 42 43 44 45 46 47 48 49\n",
            "[51] 50 51 52 53 54 55 56 57 58 59 60 61 62 63 64 65 66 67 68 69 70 71 72 73 74\n",
            "[76] 75 76 77 78 79 80 81 82 83 84 85\n"
          ]
        }
      ]
    },
    {
      "cell_type": "code",
      "source": [
        "## excludem varsta = 999 (toate varstele) din tabelul 'data.pop1'\n",
        "%%R\n",
        "data.pop1<-data.pop1[data.pop1$Age!=999,]"
      ],
      "metadata": {
        "id": "GhboENRKV2EB"
      },
      "execution_count": 56,
      "outputs": []
    },
    {
      "cell_type": "code",
      "source": [
        "%%R\n",
        "str(data.pop1)"
      ],
      "metadata": {
        "colab": {
          "base_uri": "https://localhost:8080/"
        },
        "id": "XTpos8MOVtyo",
        "outputId": "96fff04b-e8c4-4df3-df84-b96753a50163"
      },
      "execution_count": 58,
      "outputs": [
        {
          "output_type": "stream",
          "name": "stdout",
          "text": [
            "'data.frame':\t1720 obs. of  5 variables:\n",
            " $ Area      : chr  \"TOT\" \"TOT\" \"TOT\" \"TOT\" ...\n",
            " $ Year      : int  2014 2014 2014 2014 2014 2014 2014 2014 2014 2014 ...\n",
            " $ Age       : int  0 1 2 3 4 5 6 7 8 9 ...\n",
            " $ Sex       : chr  \"Male\" \"Male\" \"Male\" \"Male\" ...\n",
            " $ Population: int  19484 19349 18597 19348 19590 18262 18149 17203 16699 16626 ...\n"
          ]
        }
      ]
    },
    {
      "cell_type": "code",
      "source": [
        "## cream o variabila 'Age1' pentru grupe cincinale (0, 1-4, 5-9, ... 85+)\n",
        "%%R\n",
        "data.pop1$Age1<-cut(data.pop1$Age,\n",
        "                   breaks=c(-Inf, 1,5,10,15,20,25,30,35, 40,45,50,55, 60,65,70,75,80,85,Inf),\n",
        "                   labels=c(0,1,5,10,15,20,25,30,35, 40,45,50,55, 60,65,70,75,80,85),\n",
        "                   right=FALSE)\n",
        "head(data.pop1, 15)"
      ],
      "metadata": {
        "colab": {
          "base_uri": "https://localhost:8080/"
        },
        "id": "Zj0E9bcKTsL_",
        "outputId": "9c4546ce-4a0d-4943-aeb6-da76d612dbb4"
      },
      "execution_count": 62,
      "outputs": [
        {
          "output_type": "stream",
          "name": "stdout",
          "text": [
            "   Area Year Age  Sex Population Age1\n",
            "2   TOT 2014   0 Male      19484    0\n",
            "3   TOT 2014   1 Male      19349    1\n",
            "4   TOT 2014   2 Male      18597    1\n",
            "5   TOT 2014   3 Male      19348    1\n",
            "6   TOT 2014   4 Male      19590    1\n",
            "7   TOT 2014   5 Male      18262    5\n",
            "8   TOT 2014   6 Male      18149    5\n",
            "9   TOT 2014   7 Male      17203    5\n",
            "10  TOT 2014   8 Male      16699    5\n",
            "11  TOT 2014   9 Male      16626    5\n",
            "12  TOT 2014  10 Male      15728   10\n",
            "13  TOT 2014  11 Male      16055   10\n",
            "14  TOT 2014  12 Male      15515   10\n",
            "15  TOT 2014  13 Male      16779   10\n",
            "16  TOT 2014  14 Male      16365   10\n"
          ]
        }
      ]
    },
    {
      "cell_type": "code",
      "source": [
        "## agregam populatia pe grupe cincinale (aggregate)\n",
        "%%R\n",
        "data.pop2<-aggregate(data.pop1$Population, by=list(data.pop1$Area, data.pop1$Year, data.pop1$Age1, data.pop1$Sex), sum)\n",
        "head(data.pop2)"
      ],
      "metadata": {
        "colab": {
          "base_uri": "https://localhost:8080/"
        },
        "id": "fQdDkOREXVRN",
        "outputId": "a64d744d-a592-47ed-c042-a7de74573899"
      },
      "execution_count": 64,
      "outputs": [
        {
          "output_type": "stream",
          "name": "stdout",
          "text": [
            "  Group.1 Group.2 Group.3 Group.4     x\n",
            "1     TOT    2014       0  Female 18494\n",
            "2     TOT    2015       0  Female 19535\n",
            "3     TOT    2016       0  Female 19423\n",
            "4     TOT    2017       0  Female 19011\n",
            "5     TOT    2018       0  Female 17327\n",
            "6     TOT    2019       0  Female 16050\n"
          ]
        }
      ]
    },
    {
      "cell_type": "code",
      "source": [
        "## Denumim coloanele din nou tabel (colnames)\n",
        "%%R\n",
        "colnames(data.pop2)<-c('Area', 'Year','Age','Sex','Population')\n",
        "head(data.pop2)\n",
        "str(data.pop2)"
      ],
      "metadata": {
        "colab": {
          "base_uri": "https://localhost:8080/"
        },
        "id": "GuQ7nRYMYAW6",
        "outputId": "0daa1f71-f07e-4a69-f863-6e4614640f99"
      },
      "execution_count": 66,
      "outputs": [
        {
          "output_type": "stream",
          "name": "stdout",
          "text": [
            "'data.frame':\t380 obs. of  5 variables:\n",
            " $ Area      : chr  \"TOT\" \"TOT\" \"TOT\" \"TOT\" ...\n",
            " $ Year      : int  2014 2015 2016 2017 2018 2019 2020 2021 2022 2023 ...\n",
            " $ Age       : Factor w/ 19 levels \"0\",\"1\",\"5\",\"10\",..: 1 1 1 1 1 1 1 1 1 1 ...\n",
            " $ Sex       : chr  \"Female\" \"Female\" \"Female\" \"Female\" ...\n",
            " $ Population: int  18494 19535 19423 19011 17327 16050 15013 14258 13347 12229 ...\n"
          ]
        }
      ]
    },
    {
      "cell_type": "code",
      "source": [
        "## Schimbam formatul coloanei 'Age' (din Factor la Character)\n",
        "%%R\n",
        "data.pop2$Age<-as.character(data.pop2$Age)\n",
        "str(data.pop2)\n",
        "unique(data.pop2$Age)"
      ],
      "metadata": {
        "colab": {
          "base_uri": "https://localhost:8080/"
        },
        "id": "E5pEOW7nYuUk",
        "outputId": "30cca68d-eb55-413a-fd14-9a294dffc691"
      },
      "execution_count": 70,
      "outputs": [
        {
          "output_type": "stream",
          "name": "stdout",
          "text": [
            "'data.frame':\t380 obs. of  5 variables:\n",
            " $ Area      : chr  \"TOT\" \"TOT\" \"TOT\" \"TOT\" ...\n",
            " $ Year      : int  2014 2015 2016 2017 2018 2019 2020 2021 2022 2023 ...\n",
            " $ Age       : chr  \"0\" \"0\" \"0\" \"0\" ...\n",
            " $ Sex       : chr  \"Female\" \"Female\" \"Female\" \"Female\" ...\n",
            " $ Population: int  18494 19535 19423 19011 17327 16050 15013 14258 13347 12229 ...\n",
            " [1] \"0\"  \"1\"  \"5\"  \"10\" \"15\" \"20\" \"25\" \"30\" \"35\" \"40\" \"45\" \"50\" \"55\" \"60\" \"65\"\n",
            "[16] \"70\" \"75\" \"80\" \"85\"\n"
          ]
        }
      ]
    },
    {
      "cell_type": "markdown",
      "source": [
        "# ***A.5 Prelucrarea preliminara a datelor privind numarul deceselor in R (lucrul individual)***"
      ],
      "metadata": {
        "id": "SbUSBqXbZjT0"
      }
    },
    {
      "cell_type": "code",
      "source": [
        "## Vizualizati primele cinci randuri in tabelul 'data.d' (head)\n",
        "%%R\n",
        "head(data.d, 5)"
      ],
      "metadata": {
        "colab": {
          "base_uri": "https://localhost:8080/"
        },
        "id": "XPAcvpVjZvX1",
        "outputId": "a86d4161-ef07-42dc-c38c-7a4808e67b84"
      },
      "execution_count": 72,
      "outputs": [
        {
          "output_type": "stream",
          "name": "stdout",
          "text": [
            "  Area Age Year  Male Female\n",
            "1  TOT 999 2014 20672  18850\n",
            "2  TOT   0 2014   220    152\n",
            "3  TOT   1 2014    21     14\n",
            "4  TOT   2 2014    13      9\n",
            "5  TOT   3 2014     7      8\n"
          ]
        }
      ]
    },
    {
      "cell_type": "code",
      "source": [
        "## Care sunt valorile unice pentru variabila \"Year\" (An)\n",
        "%%R\n",
        "unique(data.d$Year)"
      ],
      "metadata": {
        "colab": {
          "base_uri": "https://localhost:8080/"
        },
        "id": "Rhcaru42bN4Z",
        "outputId": "1fd7b40d-442c-4b5d-d3b8-a7ded47252fa"
      },
      "execution_count": 73,
      "outputs": [
        {
          "output_type": "stream",
          "name": "stdout",
          "text": [
            "[1] 2014 2015 2016 2017 2018 2019 2020 2021 2022\n"
          ]
        }
      ]
    },
    {
      "cell_type": "code",
      "source": [
        "## transformati formatul tabelului 'data.d' din 'lung' in 'larg'\n",
        "%%R\n",
        "data.d1<-gather(data.d, key=\"Sex\", value=\"Deaths\", Male:Female)\n",
        "head(data.d1)"
      ],
      "metadata": {
        "colab": {
          "base_uri": "https://localhost:8080/"
        },
        "id": "dQaQO28nbVOa",
        "outputId": "e83112da-f396-4989-a910-2e735c4f21cd"
      },
      "execution_count": 74,
      "outputs": [
        {
          "output_type": "stream",
          "name": "stdout",
          "text": [
            "  Area Age Year  Sex Deaths\n",
            "1  TOT 999 2014 Male  20672\n",
            "2  TOT   0 2014 Male    220\n",
            "3  TOT   1 2014 Male     21\n",
            "4  TOT   2 2014 Male     13\n",
            "5  TOT   3 2014 Male      7\n",
            "6  TOT   4 2014 Male      3\n"
          ]
        }
      ]
    },
    {
      "cell_type": "code",
      "source": [
        "## Care sunt grupe de varsta in 'data.d1'\n",
        "%%R\n",
        "unique(data.d1$Age)"
      ],
      "metadata": {
        "colab": {
          "base_uri": "https://localhost:8080/"
        },
        "id": "X1d3Ov-xcGgC",
        "outputId": "9fb5f4d9-eba6-4d8c-a13b-64837fd53148"
      },
      "execution_count": 77,
      "outputs": [
        {
          "output_type": "stream",
          "name": "stdout",
          "text": [
            "  [1]   0   1   2   3   4   5   6   7   8   9  10  11  12  13  14  15  16  17\n",
            " [19]  18  19  20  21  22  23  24  25  26  27  28  29  30  31  32  33  34  35\n",
            " [37]  36  37  38  39  40  41  42  43  44  45  46  47  48  49  50  51  52  53\n",
            " [55]  54  55  56  57  58  59  60  61  62  63  64  65  66  67  68  69  70  71\n",
            " [73]  72  73  74  75  76  77  78  79  80  81  82  83  84  85  86  87  88  89\n",
            " [91]  90  91  92  93  94  95  96  97  98  99 100\n"
          ]
        }
      ]
    },
    {
      "cell_type": "code",
      "source": [
        "## Excludeti varsta = 999 (toate varstele) din tabelul 'data.d1'\n",
        "%%R\n",
        "data.d1<-data.d1[data.d1$Age!=999,]"
      ],
      "metadata": {
        "id": "NIUYGxVVcPAn"
      },
      "execution_count": 76,
      "outputs": []
    },
    {
      "cell_type": "code",
      "source": [
        "%%R\n",
        "str(data.d1)"
      ],
      "metadata": {
        "colab": {
          "base_uri": "https://localhost:8080/"
        },
        "id": "VoZo_zgQcrvD",
        "outputId": "3960df22-f58d-4e77-f349-7814206436e6"
      },
      "execution_count": 78,
      "outputs": [
        {
          "output_type": "stream",
          "name": "stdout",
          "text": [
            "'data.frame':\t1818 obs. of  5 variables:\n",
            " $ Area  : chr  \"TOT\" \"TOT\" \"TOT\" \"TOT\" ...\n",
            " $ Age   : int  0 1 2 3 4 5 6 7 8 9 ...\n",
            " $ Year  : int  2014 2014 2014 2014 2014 2014 2014 2014 2014 2014 ...\n",
            " $ Sex   : chr  \"Male\" \"Male\" \"Male\" \"Male\" ...\n",
            " $ Deaths: int  220 21 13 7 3 2 5 5 4 7 ...\n"
          ]
        }
      ]
    },
    {
      "cell_type": "code",
      "source": [
        "## Creati o variabila 'Age1' pentru grupe cincinale (0, 1-4, 5-9, ... 85+)\n",
        "%%R\n",
        "data.d1$Age1<-cut(data.d1$Age,\n",
        "                   breaks=c(-Inf, 1,5,10,15,20,25,30,35, 40,45,50,55, 60,65,70,75,80,85,Inf),\n",
        "                   labels=c(0,1,5,10,15,20,25,30,35, 40,45,50,55, 60,65,70,75,80,85),\n",
        "                   right=FALSE)\n",
        "head(data.d1, 15)"
      ],
      "metadata": {
        "colab": {
          "base_uri": "https://localhost:8080/"
        },
        "id": "7wQ8AKoycisD",
        "outputId": "b29bbbb2-f253-48ff-ee30-3fbf6c40ca0c"
      },
      "execution_count": 79,
      "outputs": [
        {
          "output_type": "stream",
          "name": "stdout",
          "text": [
            "   Area Age Year  Sex Deaths Age1\n",
            "2   TOT   0 2014 Male    220    0\n",
            "3   TOT   1 2014 Male     21    1\n",
            "4   TOT   2 2014 Male     13    1\n",
            "5   TOT   3 2014 Male      7    1\n",
            "6   TOT   4 2014 Male      3    1\n",
            "7   TOT   5 2014 Male      2    5\n",
            "8   TOT   6 2014 Male      5    5\n",
            "9   TOT   7 2014 Male      5    5\n",
            "10  TOT   8 2014 Male      4    5\n",
            "11  TOT   9 2014 Male      7    5\n",
            "12  TOT  10 2014 Male      4   10\n",
            "13  TOT  11 2014 Male      6   10\n",
            "14  TOT  12 2014 Male      3   10\n",
            "15  TOT  13 2014 Male      8   10\n",
            "16  TOT  14 2014 Male     11   10\n"
          ]
        }
      ]
    },
    {
      "cell_type": "code",
      "source": [
        "## Agregati populatia pe grupe cincinale (aggregate)\n",
        "%%R\n",
        "data.d2<-aggregate(data.d1$Deaths, by=list(data.d1$Area, data.d1$Year, data.d1$Age1, data.d1$Sex), sum)\n",
        "head(data.d2)"
      ],
      "metadata": {
        "colab": {
          "base_uri": "https://localhost:8080/"
        },
        "id": "6At0eD8MdAYQ",
        "outputId": "dda59ac6-89c2-4701-b623-4808daeeca99"
      },
      "execution_count": 82,
      "outputs": [
        {
          "output_type": "stream",
          "name": "stdout",
          "text": [
            "  Group.1 Group.2 Group.3 Group.4   x\n",
            "1     TOT    2014       0  Female 152\n",
            "2     TOT    2015       0  Female 147\n",
            "3     TOT    2016       0  Female 145\n",
            "4     TOT    2017       0  Female 147\n",
            "5     TOT    2018       0  Female 127\n",
            "6     TOT    2019       0  Female 130\n"
          ]
        }
      ]
    },
    {
      "cell_type": "code",
      "source": [
        "## Denumiti coloanele din nou tabel (colnames)\n",
        "%%R\n",
        "colnames(data.d2)<-c('Area', 'Year','Age','Sex','Deaths')\n",
        "head(data.d2)\n",
        "str(data.d2)"
      ],
      "metadata": {
        "colab": {
          "base_uri": "https://localhost:8080/"
        },
        "id": "5KvGqztheXuk",
        "outputId": "937fb1d5-5ae5-4e40-fd47-1006d6b91f04"
      },
      "execution_count": 83,
      "outputs": [
        {
          "output_type": "stream",
          "name": "stdout",
          "text": [
            "'data.frame':\t342 obs. of  5 variables:\n",
            " $ Area  : chr  \"TOT\" \"TOT\" \"TOT\" \"TOT\" ...\n",
            " $ Year  : int  2014 2015 2016 2017 2018 2019 2020 2021 2022 2014 ...\n",
            " $ Age   : Factor w/ 19 levels \"0\",\"1\",\"5\",\"10\",..: 1 1 1 1 1 1 1 1 1 2 ...\n",
            " $ Sex   : chr  \"Female\" \"Female\" \"Female\" \"Female\" ...\n",
            " $ Deaths: int  152 147 145 147 127 130 123 114 109 37 ...\n"
          ]
        }
      ]
    },
    {
      "cell_type": "code",
      "source": [
        "## Schimbati formatul coloanei 'Age' (din Factor la Character)\n",
        "%%R\n",
        "data.d2$Age<-as.character(data.d2$Age)\n",
        "str(data.d2)\n",
        "unique(data.d2$Age)"
      ],
      "metadata": {
        "colab": {
          "base_uri": "https://localhost:8080/"
        },
        "id": "CmM3y96zeoh1",
        "outputId": "970b17d7-be99-4292-ada9-233decbeba0a"
      },
      "execution_count": 84,
      "outputs": [
        {
          "output_type": "stream",
          "name": "stdout",
          "text": [
            "'data.frame':\t342 obs. of  5 variables:\n",
            " $ Area  : chr  \"TOT\" \"TOT\" \"TOT\" \"TOT\" ...\n",
            " $ Year  : int  2014 2015 2016 2017 2018 2019 2020 2021 2022 2014 ...\n",
            " $ Age   : chr  \"0\" \"0\" \"0\" \"0\" ...\n",
            " $ Sex   : chr  \"Female\" \"Female\" \"Female\" \"Female\" ...\n",
            " $ Deaths: int  152 147 145 147 127 130 123 114 109 37 ...\n",
            " [1] \"0\"  \"1\"  \"5\"  \"10\" \"15\" \"20\" \"25\" \"30\" \"35\" \"40\" \"45\" \"50\" \"55\" \"60\" \"65\"\n",
            "[16] \"70\" \"75\" \"80\" \"85\"\n"
          ]
        }
      ]
    },
    {
      "cell_type": "markdown",
      "source": [
        "# ***A.6 Calcularea ratelor standardizate ale mortalitatii prin metoda directa in R:***"
      ],
      "metadata": {
        "id": "Xv4TVGXve23U"
      }
    },
    {
      "cell_type": "code",
      "source": [
        "## Utilizam datele din trei tabele\n",
        "## Populatia standard\n",
        "%%R\n",
        "str(pop.st)"
      ],
      "metadata": {
        "colab": {
          "base_uri": "https://localhost:8080/"
        },
        "id": "ecZ6d6hefPsH",
        "outputId": "3980dda1-1fc7-4323-bffd-efc38ca078c8"
      },
      "execution_count": 151,
      "outputs": [
        {
          "output_type": "stream",
          "name": "stdout",
          "text": [
            "'data.frame':\t19 obs. of  2 variables:\n",
            " $ Age: int  0 1 5 10 15 20 25 30 35 40 ...\n",
            " $ Pop: int  1000 4000 5500 5500 5500 6000 6000 6500 7000 7000 ...\n"
          ]
        }
      ]
    },
    {
      "cell_type": "code",
      "source": [
        "## datele privind populatia pe grupe cincinale\n",
        "%%R\n",
        "data.pop2<-data.pop2[data.pop2$Year!=2023,]\n",
        "str(data.pop2)"
      ],
      "metadata": {
        "colab": {
          "base_uri": "https://localhost:8080/"
        },
        "id": "D419z9n6tnsm",
        "outputId": "318cc082-0748-439a-9ba4-f5d34ca6173a"
      },
      "execution_count": 153,
      "outputs": [
        {
          "output_type": "stream",
          "name": "stdout",
          "text": [
            "'data.frame':\t342 obs. of  5 variables:\n",
            " $ Area      : chr  \"TOT\" \"TOT\" \"TOT\" \"TOT\" ...\n",
            " $ Year      : int  2014 2015 2016 2017 2018 2019 2020 2021 2022 2014 ...\n",
            " $ Age       : int  0 0 0 0 0 0 0 0 0 1 ...\n",
            " $ Sex       : chr  \"Female\" \"Female\" \"Female\" \"Female\" ...\n",
            " $ Population: int  18494 19535 19423 19011 17327 16050 15013 14258 13347 72685 ...\n"
          ]
        }
      ]
    },
    {
      "cell_type": "code",
      "source": [
        "## transformam variabila 'Age' din tabelul 'data.pop2' din 'character' in 'integer'\n",
        "%%R\n",
        "data.pop2$Age<-as.integer(data.pop2$Age)"
      ],
      "metadata": {
        "id": "s5M0NuLhyuGG"
      },
      "execution_count": 152,
      "outputs": []
    },
    {
      "cell_type": "code",
      "source": [
        "## datele privind decesele pe grupe cincinale\n",
        "%%R\n",
        "str(data.d2)"
      ],
      "metadata": {
        "colab": {
          "base_uri": "https://localhost:8080/"
        },
        "id": "jOwbfNdnuhVc",
        "outputId": "a56216f6-3a50-4f09-d353-20c365db0d89"
      },
      "execution_count": 156,
      "outputs": [
        {
          "output_type": "stream",
          "name": "stdout",
          "text": [
            "'data.frame':\t342 obs. of  5 variables:\n",
            " $ Area  : chr  \"TOT\" \"TOT\" \"TOT\" \"TOT\" ...\n",
            " $ Year  : int  2014 2015 2016 2017 2018 2019 2020 2021 2022 2014 ...\n",
            " $ Age   : int  0 0 0 0 0 0 0 0 0 1 ...\n",
            " $ Sex   : chr  \"Female\" \"Female\" \"Female\" \"Female\" ...\n",
            " $ Deaths: int  152 147 145 147 127 130 123 114 109 37 ...\n"
          ]
        }
      ]
    },
    {
      "cell_type": "code",
      "source": [
        "## transformam variabila 'Age' din tabelul 'data.d2' din 'character' in 'integer'\n",
        "%%R\n",
        "data.d2$Age<-as.integer(data.d2$Age)"
      ],
      "metadata": {
        "id": "By2heui6zIvQ"
      },
      "execution_count": 155,
      "outputs": []
    },
    {
      "cell_type": "code",
      "source": [
        "## Instalam pachetul \"dplyr\"\n",
        "%%R\n",
        "install.packages('dplyr')\n",
        "library(dplyr)"
      ],
      "metadata": {
        "id": "nnaiXVAMuq9v"
      },
      "execution_count": null,
      "outputs": []
    },
    {
      "cell_type": "code",
      "source": [
        "## Unim doua tabele (data.pop2 si data.d2) intr-un table dupa an, varsta si sex (left_join)\n",
        "%%R\n",
        "my.data<-left_join(x=data.pop2, y=data.d2, by=c('Area', 'Year', 'Age', 'Sex'))\n",
        "head(my.data)"
      ],
      "metadata": {
        "colab": {
          "base_uri": "https://localhost:8080/"
        },
        "id": "6uAr7ZolvmoU",
        "outputId": "54dcc59e-01d2-4fab-bcab-b44010e24b0d"
      },
      "execution_count": 158,
      "outputs": [
        {
          "output_type": "stream",
          "name": "stdout",
          "text": [
            "  Area Year Age    Sex Population Deaths\n",
            "1  TOT 2014   0 Female      18494    152\n",
            "2  TOT 2015   0 Female      19535    147\n",
            "3  TOT 2016   0 Female      19423    145\n",
            "4  TOT 2017   0 Female      19011    147\n",
            "5  TOT 2018   0 Female      17327    127\n",
            "6  TOT 2019   0 Female      16050    130\n"
          ]
        }
      ]
    },
    {
      "cell_type": "code",
      "source": [
        "## Verificam structura tabelului creat\n",
        "%%R\n",
        "str(my.data)"
      ],
      "metadata": {
        "colab": {
          "base_uri": "https://localhost:8080/"
        },
        "id": "BSEmAaycw1Wc",
        "outputId": "cfbe871d-ee7e-4ef4-b6d9-b49acbd6b4af"
      },
      "execution_count": 159,
      "outputs": [
        {
          "output_type": "stream",
          "name": "stdout",
          "text": [
            "'data.frame':\t342 obs. of  6 variables:\n",
            " $ Area      : chr  \"TOT\" \"TOT\" \"TOT\" \"TOT\" ...\n",
            " $ Year      : int  2014 2015 2016 2017 2018 2019 2020 2021 2022 2014 ...\n",
            " $ Age       : int  0 0 0 0 0 0 0 0 0 1 ...\n",
            " $ Sex       : chr  \"Female\" \"Female\" \"Female\" \"Female\" ...\n",
            " $ Population: int  18494 19535 19423 19011 17327 16050 15013 14258 13347 72685 ...\n",
            " $ Deaths    : int  152 147 145 147 127 130 123 114 109 37 ...\n"
          ]
        }
      ]
    },
    {
      "cell_type": "code",
      "source": [
        "## Calculam ratele specifice de mortalitate pe varste si sexe (o noua variabila)\n",
        "%%R\n",
        "my.data$ASDR<-my.data$Deaths / my.data$Population\n",
        "head(my.data)"
      ],
      "metadata": {
        "colab": {
          "base_uri": "https://localhost:8080/"
        },
        "id": "PqSwverExUsd",
        "outputId": "e563161b-2bfe-4a1b-cf11-e46f29788beb"
      },
      "execution_count": 171,
      "outputs": [
        {
          "output_type": "stream",
          "name": "stdout",
          "text": [
            "  Area Year Age    Sex Population Deaths        ASDR\n",
            "1  TOT 2014   0 Female      18494    152 0.008218882\n",
            "2  TOT 2015   0 Female      19535    147 0.007524955\n",
            "3  TOT 2016   0 Female      19423    145 0.007465376\n",
            "4  TOT 2017   0 Female      19011    147 0.007732365\n",
            "5  TOT 2018   0 Female      17327    127 0.007329601\n",
            "6  TOT 2019   0 Female      16050    130 0.008099688\n"
          ]
        }
      ]
    },
    {
      "cell_type": "code",
      "source": [
        "## Unim tabelul 'my.table' cu 'pop.st' pe varste\n",
        "%%R\n",
        "my.data1<-left_join(x=my.data, y=pop.st, by='Age')\n",
        "head(my.data1,15)"
      ],
      "metadata": {
        "colab": {
          "base_uri": "https://localhost:8080/"
        },
        "id": "MRLCoE0ex_F4",
        "outputId": "d8761405-91f4-48ea-9e9c-abddb9d24fed"
      },
      "execution_count": 174,
      "outputs": [
        {
          "output_type": "stream",
          "name": "stdout",
          "text": [
            "   Area Year Age    Sex Population Deaths         ASDR  Pop\n",
            "1   TOT 2014   0 Female      18494    152 0.0082188818 1000\n",
            "2   TOT 2015   0 Female      19535    147 0.0075249552 1000\n",
            "3   TOT 2016   0 Female      19423    145 0.0074653761 1000\n",
            "4   TOT 2017   0 Female      19011    147 0.0077323655 1000\n",
            "5   TOT 2018   0 Female      17327    127 0.0073296012 1000\n",
            "6   TOT 2019   0 Female      16050    130 0.0080996885 1000\n",
            "7   TOT 2020   0 Female      15013    123 0.0081928995 1000\n",
            "8   TOT 2021   0 Female      14258    114 0.0079955113 1000\n",
            "9   TOT 2022   0 Female      13347    109 0.0081666292 1000\n",
            "10  TOT 2014   1 Female      72685     37 0.0005090459 4000\n",
            "11  TOT 2015   1 Female      71452     23 0.0003218944 4000\n",
            "12  TOT 2016   1 Female      71907     40 0.0005562741 4000\n",
            "13  TOT 2017   1 Female      72647     29 0.0003991906 4000\n",
            "14  TOT 2018   1 Female      72804     28 0.0003845943 4000\n",
            "15  TOT 2019   1 Female      70460     19 0.0002696565 4000\n"
          ]
        }
      ]
    },
    {
      "cell_type": "code",
      "source": [
        "## Calculam numarul asteptat de decese pe varste si sexe\n",
        "%%R\n",
        "my.data1$Expected_d<-my.data1$ASDR * my.data1$Pop\n",
        "head(my.data1)"
      ],
      "metadata": {
        "colab": {
          "base_uri": "https://localhost:8080/"
        },
        "id": "mzBBoZy0zw-b",
        "outputId": "68b50444-21e0-43ba-d372-90d69cf55a5b"
      },
      "execution_count": 176,
      "outputs": [
        {
          "output_type": "stream",
          "name": "stdout",
          "text": [
            "  Area Year Age    Sex Population Deaths        ASDR  Pop Expected_d\n",
            "1  TOT 2014   0 Female      18494    152 0.008218882 1000   8.218882\n",
            "2  TOT 2015   0 Female      19535    147 0.007524955 1000   7.524955\n",
            "3  TOT 2016   0 Female      19423    145 0.007465376 1000   7.465376\n",
            "4  TOT 2017   0 Female      19011    147 0.007732365 1000   7.732365\n",
            "5  TOT 2018   0 Female      17327    127 0.007329601 1000   7.329601\n",
            "6  TOT 2019   0 Female      16050    130 0.008099688 1000   8.099688\n"
          ]
        }
      ]
    },
    {
      "cell_type": "code",
      "source": [
        "## Adunam decesele asteptate pe varste (= ratele standardizate ale mortalitatii, SMR)\n",
        "%%R\n",
        "my.data2<-aggregate(list('Deaths'=my.data1$Deaths, 'Population'=my.data1$Population, 'SMR' = my.data1$Expected_d),\n",
        "                    by=list('Area'=my.data1$Area, 'Year'=my.data1$Year, 'Sex'=my.data1$Sex), sum)\n",
        "head(my.data2,20)"
      ],
      "metadata": {
        "colab": {
          "base_uri": "https://localhost:8080/"
        },
        "id": "v-Xu-IQn19Uz",
        "outputId": "92040c7b-b80f-4842-9a4e-90eed7ec5198"
      },
      "execution_count": 186,
      "outputs": [
        {
          "output_type": "stream",
          "name": "stdout",
          "text": [
            "   Area Year    Sex Deaths Population      SMR\n",
            "1   TOT 2014 Female  18841    1493516 1826.665\n",
            "2   TOT 2015 Female  18873    1477980 1833.204\n",
            "3   TOT 2016 Female  18072    1465618 1747.730\n",
            "4   TOT 2017 Female  17533    1446229 1734.686\n",
            "5   TOT 2018 Female  17487    1424739 1713.617\n",
            "6   TOT 2019 Female  17106    1402708 1679.238\n",
            "7   TOT 2020 Female  19264    1381477 1867.559\n",
            "8   TOT 2021 Female  22022    1373422 2131.183\n",
            "9   TOT 2022 Female  16868    1346864 1700.092\n",
            "10  TOT 2014   Male  20646    1375786 2739.528\n",
            "11  TOT 2015   Male  20891    1368347 2740.398\n",
            "12  TOT 2016   Male  20316    1360010 2679.044\n",
            "13  TOT 2017   Male  19234    1334515 2572.904\n",
            "14  TOT 2018   Male  19756    1304895 2623.620\n",
            "15  TOT 2019   Male  19284    1282064 2569.433\n",
            "16  TOT 2020   Male  21432    1262198 2859.610\n",
            "17  TOT 2021   Male  23421    1253166 3189.788\n",
            "18  TOT 2022   Male  19265    1218166 2678.575\n"
          ]
        }
      ]
    },
    {
      "cell_type": "code",
      "source": [
        "## Calculam rata cruda a mortalitatii, CDR\n",
        "%%R\n",
        "my.data2$CDR<-my.data2$Deaths / my.data2$Population * 100000\n",
        "head(my.data2)"
      ],
      "metadata": {
        "id": "ggzAJM4P5Duo",
        "outputId": "b6849ea3-4fff-4b46-b16e-f74eb6e599ca",
        "colab": {
          "base_uri": "https://localhost:8080/"
        }
      },
      "execution_count": 188,
      "outputs": [
        {
          "output_type": "stream",
          "name": "stdout",
          "text": [
            "  Area Year    Sex Deaths Population      SMR      CDR\n",
            "1  TOT 2014 Female  18841    1493516 1826.665 1261.520\n",
            "2  TOT 2015 Female  18873    1477980 1833.204 1276.946\n",
            "3  TOT 2016 Female  18072    1465618 1747.730 1233.063\n",
            "4  TOT 2017 Female  17533    1446229 1734.686 1212.325\n",
            "5  TOT 2018 Female  17487    1424739 1713.617 1227.383\n",
            "6  TOT 2019 Female  17106    1402708 1679.238 1219.498\n"
          ]
        }
      ]
    },
    {
      "cell_type": "code",
      "source": [
        "## Omitem coloanele inutile din tabelul 'my.data2'\n",
        "%%R\n",
        "my.data2<-my.data2[,-c(4,5)]\n",
        "head(my.data2)"
      ],
      "metadata": {
        "id": "1WCoF6cg5dL3",
        "outputId": "5c5b3144-168b-42d2-e8c5-65f36550a9a6",
        "colab": {
          "base_uri": "https://localhost:8080/"
        }
      },
      "execution_count": 189,
      "outputs": [
        {
          "output_type": "stream",
          "name": "stdout",
          "text": [
            "  Area Year    Sex      SMR      CDR\n",
            "1  TOT 2014 Female 1826.665 1261.520\n",
            "2  TOT 2015 Female 1833.204 1276.946\n",
            "3  TOT 2016 Female 1747.730 1233.063\n",
            "4  TOT 2017 Female 1734.686 1212.325\n",
            "5  TOT 2018 Female 1713.617 1227.383\n",
            "6  TOT 2019 Female 1679.238 1219.498\n"
          ]
        }
      ]
    },
    {
      "cell_type": "markdown",
      "source": [
        "# ***A.7 Prezentarea grafica a rezultatelor in R:***"
      ],
      "metadata": {
        "id": "K2-6F-5k62l9"
      }
    },
    {
      "cell_type": "code",
      "source": [
        "## transformam tabelul 'my.data2' din formatul 'long' in formatul 'larg'\n",
        "%%R\n",
        "my.data3<-gather(my.data2, key='Indicator', value='Value', SMR:CDR)\n",
        "head(my.data3)"
      ],
      "metadata": {
        "id": "GNsP9VZp_Van",
        "outputId": "5e62f259-aedf-46e6-ec55-f7bfc3da3457",
        "colab": {
          "base_uri": "https://localhost:8080/"
        }
      },
      "execution_count": 204,
      "outputs": [
        {
          "output_type": "stream",
          "name": "stdout",
          "text": [
            "  Area Year    Sex Indicator    Value\n",
            "1  TOT 2014 Female       SMR 1826.665\n",
            "2  TOT 2015 Female       SMR 1833.204\n",
            "3  TOT 2016 Female       SMR 1747.730\n",
            "4  TOT 2017 Female       SMR 1734.686\n",
            "5  TOT 2018 Female       SMR 1713.617\n",
            "6  TOT 2019 Female       SMR 1679.238\n"
          ]
        }
      ]
    },
    {
      "cell_type": "code",
      "source": [
        "## Instalam pachetul 'ggplot2' pentru prezentarea graphica\n",
        "%%R\n",
        "install.packages('ggplot2')\n",
        "library(ggplot2)"
      ],
      "metadata": {
        "id": "ZZJQi4l-7GlI"
      },
      "execution_count": null,
      "outputs": []
    },
    {
      "cell_type": "code",
      "source": [
        "%%R\n",
        "ggplot(my.data3, aes(x=Year, y=Value, color=Indicator, shape=Sex))+\n",
        "        geom_line()"
      ],
      "metadata": {
        "id": "TAbDS4n77crz",
        "outputId": "0454cc10-3cc6-45ae-dbed-b83641970331",
        "colab": {
          "base_uri": "https://localhost:8080/",
          "height": 497
        }
      },
      "execution_count": 210,
      "outputs": [
        {
          "output_type": "display_data",
          "data": {
            "image/png": "[encoded data removed]"
          },
          "metadata": {}
        }
      ]
    }
  ]
}